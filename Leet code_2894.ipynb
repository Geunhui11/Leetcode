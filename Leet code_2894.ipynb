{
 "cells": [
  {
   "cell_type": "code",
   "execution_count": null,
   "id": "1836aa72",
   "metadata": {},
   "outputs": [],
   "source": [
    "class Solution:\n",
    "    def differenceOfSums(self, n: int, m: int) -> int:\n",
    "        num1_list = [i for i in range(1,n+1) if i % m != 0]\n",
    "        num2_list = [j for j in range(1,n+1) if j % m == 0]\n",
    "\n",
    "        num1 = sum(num1_list)\n",
    "        num2 = sum(num2_list)\n",
    "        \n",
    "        return num1 - num2"
   ]
  }
 ],
 "metadata": {
  "kernelspec": {
   "display_name": "Python 3 (ipykernel)",
   "language": "python",
   "name": "python3"
  },
  "language_info": {
   "codemirror_mode": {
    "name": "ipython",
    "version": 3
   },
   "file_extension": ".py",
   "mimetype": "text/x-python",
   "name": "python",
   "nbconvert_exporter": "python",
   "pygments_lexer": "ipython3",
   "version": "3.11.5"
  }
 },
 "nbformat": 4,
 "nbformat_minor": 5
}
