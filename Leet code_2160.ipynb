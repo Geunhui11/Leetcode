{
 "cells": [
  {
   "cell_type": "code",
   "execution_count": null,
   "id": "f93b71bf",
   "metadata": {},
   "outputs": [],
   "source": [
    "class Solution:\n",
    "    def minimumSum(self, num: int) -> int:\n",
    "        str_num = str(num)\n",
    "        list_num = [int(s) for s in str_num]\n",
    "        list_num.sort()\n",
    "\n",
    "        if list_num[0] != 0 and list_num[1] != 0:\n",
    "            return int(str(list_num[0])+str(list_num[2])) + int(str(list_num[1])+str(list_num[3]))\n",
    "        \n",
    "        elif list_num[0] != 0 and list_num[1] == 0:\n",
    "            return int(str(list_num[0])+str(list_num[2])) + int(str(list_num[3]))\n",
    "        \n",
    "        elif list_num[0] == 0 and list_num[1] != 0:\n",
    "            return int(str(list_num[2])) + int(str(list_num[1])+str(list_num[3]))\n",
    "        \n",
    "        else:\n",
    "            return int(str(list_num[2])) + int(str(list_num[3]))"
   ]
  }
 ],
 "metadata": {
  "kernelspec": {
   "display_name": "Python 3 (ipykernel)",
   "language": "python",
   "name": "python3"
  },
  "language_info": {
   "codemirror_mode": {
    "name": "ipython",
    "version": 3
   },
   "file_extension": ".py",
   "mimetype": "text/x-python",
   "name": "python",
   "nbconvert_exporter": "python",
   "pygments_lexer": "ipython3",
   "version": "3.11.5"
  }
 },
 "nbformat": 4,
 "nbformat_minor": 5
}
