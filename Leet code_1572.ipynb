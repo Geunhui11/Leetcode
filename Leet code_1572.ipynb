{
 "cells": [
  {
   "cell_type": "code",
   "execution_count": null,
   "id": "c981331d",
   "metadata": {},
   "outputs": [],
   "source": [
    "class Solution:\n",
    "    def diagonalSum(self, mat: List[List[int]]) -> int:\n",
    "        sum = 0\n",
    "        for i in range(len(mat)):\n",
    "            sum += mat[i][i]\n",
    "            sum += mat[i][len(mat)-i-1]\n",
    "\n",
    "        if len(mat) % 2 == 1:\n",
    "            sum -= mat[(len(mat)-1)//2][(len(mat)-1)//2]\n",
    "        return sum"
   ]
  }
 ],
 "metadata": {
  "kernelspec": {
   "display_name": "Python 3 (ipykernel)",
   "language": "python",
   "name": "python3"
  },
  "language_info": {
   "codemirror_mode": {
    "name": "ipython",
    "version": 3
   },
   "file_extension": ".py",
   "mimetype": "text/x-python",
   "name": "python",
   "nbconvert_exporter": "python",
   "pygments_lexer": "ipython3",
   "version": "3.11.5"
  }
 },
 "nbformat": 4,
 "nbformat_minor": 5
}
