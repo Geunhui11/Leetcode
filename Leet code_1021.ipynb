{
 "cells": [
  {
   "cell_type": "code",
   "execution_count": null,
   "id": "74f09793",
   "metadata": {},
   "outputs": [],
   "source": [
    "class Solution:\n",
    "    def removeOuterParentheses(self, s: str) -> str:\n",
    "        balance = 0\n",
    "        list_balance = []\n",
    "        \n",
    "        for char in s:\n",
    "            if char == '(':\n",
    "                balance += 1\n",
    "                list_balance.append(balance)\n",
    "            elif char == ')':\n",
    "                balance -= 1\n",
    "                list_balance.append(balance)\n",
    "        \n",
    "        list_balance0_index = []\n",
    "        list_primitive_str = []\n",
    "        \n",
    "        for i in range(len(list_balance)):\n",
    "            if list_balance[i] == 0:\n",
    "                list_balance0_index.append(i)\n",
    "        k = 0\n",
    "        for j in list_balance0_index:\n",
    "            list_primitive_str.append(s[k:j+1])\n",
    "            k = j + 1\n",
    "        \n",
    "        result = ''\n",
    "        for primitive_str in list_primitive_str:\n",
    "            result += primitive_str[1:-1]\n",
    "        \n",
    "        return result"
   ]
  }
 ],
 "metadata": {
  "kernelspec": {
   "display_name": "Python 3 (ipykernel)",
   "language": "python",
   "name": "python3"
  },
  "language_info": {
   "codemirror_mode": {
    "name": "ipython",
    "version": 3
   },
   "file_extension": ".py",
   "mimetype": "text/x-python",
   "name": "python",
   "nbconvert_exporter": "python",
   "pygments_lexer": "ipython3",
   "version": "3.11.5"
  }
 },
 "nbformat": 4,
 "nbformat_minor": 5
}
