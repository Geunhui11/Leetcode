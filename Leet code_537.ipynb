{
 "cells": [
  {
   "cell_type": "code",
   "execution_count": null,
   "id": "a6c5f16a",
   "metadata": {},
   "outputs": [],
   "source": [
    "class Solution:\n",
    "    def complexNumberMultiply(self, num1: str, num2: str) -> str:\n",
    "        num1_plus = num1.find('+')\n",
    "        num2_plus = num2.find('+')\n",
    "        a = int(num1[0:num1_plus])\n",
    "        b = int(num1[num1_plus+1:-1])\n",
    "        c = int(num2[0:num2_plus])    \n",
    "        d = int(num2[num2_plus+1:-1])\n",
    "        z = str(a*c-b*d) + '+' + str(a*d+b*c) + 'i'\n",
    "        return z   "
   ]
  }
 ],
 "metadata": {
  "kernelspec": {
   "display_name": "Python 3 (ipykernel)",
   "language": "python",
   "name": "python3"
  },
  "language_info": {
   "codemirror_mode": {
    "name": "ipython",
    "version": 3
   },
   "file_extension": ".py",
   "mimetype": "text/x-python",
   "name": "python",
   "nbconvert_exporter": "python",
   "pygments_lexer": "ipython3",
   "version": "3.11.5"
  }
 },
 "nbformat": 4,
 "nbformat_minor": 5
}
