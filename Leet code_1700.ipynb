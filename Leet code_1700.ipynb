{
 "cells": [
  {
   "cell_type": "code",
   "execution_count": null,
   "id": "4aacc8f9",
   "metadata": {},
   "outputs": [],
   "source": [
    "class Solution:\n",
    "    def countStudents(self, students: List[int], sandwiches: List[int]) -> int:\n",
    "        a = sandwiches.copy()\n",
    "        for sandwich in a:\n",
    "            if sandwich in students:\n",
    "                students.remove(sandwich)\n",
    "                sandwiches.remove(sandwich)\n",
    "            else:\n",
    "                break\n",
    "        return len(sandwiches)"
   ]
  }
 ],
 "metadata": {
  "kernelspec": {
   "display_name": "Python 3 (ipykernel)",
   "language": "python",
   "name": "python3"
  },
  "language_info": {
   "codemirror_mode": {
    "name": "ipython",
    "version": 3
   },
   "file_extension": ".py",
   "mimetype": "text/x-python",
   "name": "python",
   "nbconvert_exporter": "python",
   "pygments_lexer": "ipython3",
   "version": "3.11.5"
  }
 },
 "nbformat": 4,
 "nbformat_minor": 5
}
