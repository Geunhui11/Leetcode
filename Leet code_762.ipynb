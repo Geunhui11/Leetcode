{
 "cells": [
  {
   "cell_type": "code",
   "execution_count": null,
   "id": "96152d97",
   "metadata": {},
   "outputs": [],
   "source": [
    "class Solution:\n",
    "    def countPrimeSetBits(self, left: int, right: int) -> int:\n",
    "        primes = {2, 3, 5, 7, 11, 13, 17, 19}\n",
    "        c = 0\n",
    "\n",
    "        for i in range(left, right + 1):\n",
    "            if i.bit_count() in primes:\n",
    "                c += 1\n",
    "                \n",
    "        return c"
   ]
  }
 ],
 "metadata": {
  "kernelspec": {
   "display_name": "Python 3 (ipykernel)",
   "language": "python",
   "name": "python3"
  },
  "language_info": {
   "codemirror_mode": {
    "name": "ipython",
    "version": 3
   },
   "file_extension": ".py",
   "mimetype": "text/x-python",
   "name": "python",
   "nbconvert_exporter": "python",
   "pygments_lexer": "ipython3",
   "version": "3.11.5"
  }
 },
 "nbformat": 4,
 "nbformat_minor": 5
}
