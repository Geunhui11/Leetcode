{
 "cells": [
  {
   "cell_type": "code",
   "execution_count": null,
   "id": "dfb9accd",
   "metadata": {},
   "outputs": [],
   "source": [
    "class Solution:\n",
    "    def findKOr(self, nums: List[int], k: int) -> int:\n",
    "        n = len(bin(max(nums))[2:])\n",
    "        out = ''\n",
    "        for i in range(n):\n",
    "            temp = []\n",
    "            for j in range(len(nums)):\n",
    "                temp.append(format(nums[j],'0' + str(n) + 'b')[i])\n",
    "            if temp.count('1') >= k:\n",
    "                out += '1'\n",
    "            else:\n",
    "                out += '0'\n",
    "        return int(out,2)"
   ]
  }
 ],
 "metadata": {
  "kernelspec": {
   "display_name": "Python 3 (ipykernel)",
   "language": "python",
   "name": "python3"
  },
  "language_info": {
   "codemirror_mode": {
    "name": "ipython",
    "version": 3
   },
   "file_extension": ".py",
   "mimetype": "text/x-python",
   "name": "python",
   "nbconvert_exporter": "python",
   "pygments_lexer": "ipython3",
   "version": "3.11.5"
  }
 },
 "nbformat": 4,
 "nbformat_minor": 5
}
