{
 "cells": [
  {
   "cell_type": "code",
   "execution_count": null,
   "id": "ac66f1bb",
   "metadata": {},
   "outputs": [],
   "source": [
    "class Solution:\n",
    "    def maximumUnits(self, boxTypes: List[List[int]], truckSize: int) -> int:\n",
    "        boxTypes.sort(key=lambda x:x[1],reverse = True)\n",
    "        p=0\n",
    "        for i, j in boxTypes:\n",
    "            if i<truckSize:\n",
    "                p+=i*j\n",
    "                truckSize-=i\n",
    "            else:\n",
    "                p+=truckSize*j\n",
    "                break\n",
    "        return p            "
   ]
  }
 ],
 "metadata": {
  "kernelspec": {
   "display_name": "Python 3 (ipykernel)",
   "language": "python",
   "name": "python3"
  },
  "language_info": {
   "codemirror_mode": {
    "name": "ipython",
    "version": 3
   },
   "file_extension": ".py",
   "mimetype": "text/x-python",
   "name": "python",
   "nbconvert_exporter": "python",
   "pygments_lexer": "ipython3",
   "version": "3.11.5"
  }
 },
 "nbformat": 4,
 "nbformat_minor": 5
}
