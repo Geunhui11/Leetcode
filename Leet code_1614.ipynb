{
 "cells": [
  {
   "cell_type": "code",
   "execution_count": null,
   "id": "820a213b",
   "metadata": {},
   "outputs": [],
   "source": [
    "class Solution:\n",
    "    def maxDepth(self, s: str) -> int:\n",
    "        output = 0\n",
    "        balance = [0]\n",
    "        for char in s:\n",
    "            if char == '(':\n",
    "                balance.append(output+1)\n",
    "                output += 1\n",
    "            elif char == ')':\n",
    "                balance.append(output-1)\n",
    "                output -= 1\n",
    "        return max(balance)"
   ]
  }
 ],
 "metadata": {
  "kernelspec": {
   "display_name": "Python 3 (ipykernel)",
   "language": "python",
   "name": "python3"
  },
  "language_info": {
   "codemirror_mode": {
    "name": "ipython",
    "version": 3
   },
   "file_extension": ".py",
   "mimetype": "text/x-python",
   "name": "python",
   "nbconvert_exporter": "python",
   "pygments_lexer": "ipython3",
   "version": "3.11.5"
  }
 },
 "nbformat": 4,
 "nbformat_minor": 5
}
