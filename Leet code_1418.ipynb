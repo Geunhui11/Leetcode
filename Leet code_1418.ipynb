{
 "cells": [
  {
   "cell_type": "code",
   "execution_count": null,
   "id": "6de49b49",
   "metadata": {},
   "outputs": [],
   "source": [
    "class Solution:\n",
    "    def displayTable(self, orders: List[List[str]]) -> List[List[str]]:\n",
    "        a=set()\n",
    "        b=set()\n",
    "        for i in orders:\n",
    "            a.add(i[2])\n",
    "            b.add(i[1])\n",
    "        a=list(a)\n",
    "        b=list(b)\n",
    "        a=sorted(a)\n",
    "        b=sorted(b,key=lambda x:int(x))\n",
    "        dic_a={}\n",
    "        dic_b={}\n",
    "        c=1\n",
    "        for i in a :\n",
    "            dic_a[i]=c\n",
    "            c+=1\n",
    "        c=1\n",
    "        for i in b:\n",
    "            dic_b[i]=c\n",
    "            c+=1\n",
    "        output=[]\n",
    "        output.append([\"Table\"]+a)\n",
    "\n",
    "        crx=[\"0\" for i in range(len(a))]\n",
    "        for i in b:\n",
    "            output.append([i]+crx)\n",
    "        \n",
    "        for i in orders:\n",
    "            output[dic_b[i[1]]][dic_a[i[2]]]=int(output[dic_b[i[1]]][dic_a[i[2]]])\n",
    "            output[dic_b[i[1]]][dic_a[i[2]]]+=1\n",
    "            output[dic_b[i[1]]][dic_a[i[2]]]=str(output[dic_b[i[1]]][dic_a[i[2]]])\n",
    "        \n",
    "        return output"
   ]
  }
 ],
 "metadata": {
  "kernelspec": {
   "display_name": "Python 3 (ipykernel)",
   "language": "python",
   "name": "python3"
  },
  "language_info": {
   "codemirror_mode": {
    "name": "ipython",
    "version": 3
   },
   "file_extension": ".py",
   "mimetype": "text/x-python",
   "name": "python",
   "nbconvert_exporter": "python",
   "pygments_lexer": "ipython3",
   "version": "3.11.5"
  }
 },
 "nbformat": 4,
 "nbformat_minor": 5
}
