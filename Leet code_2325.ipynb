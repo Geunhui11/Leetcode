{
 "cells": [
  {
   "cell_type": "code",
   "execution_count": null,
   "id": "aea2bd8e",
   "metadata": {},
   "outputs": [],
   "source": [
    "class Solution:\n",
    "    def decodeMessage(self, key: str, message: str) -> str:\n",
    "        output = ''\n",
    "        map_dict = {' ':' '}\n",
    "        letters = 'abcdefghijklmnopqrstuvwxyz'\n",
    "        i = 0\n",
    "\n",
    "        for char in key:\n",
    "            if char not in map_dict:\n",
    "                map_dict[char] = letters[i]\n",
    "                i+=1\n",
    "        \n",
    "        for char in message:\n",
    "            output += map_dict[char]\n",
    "        \n",
    "        return output"
   ]
  }
 ],
 "metadata": {
  "kernelspec": {
   "display_name": "Python 3 (ipykernel)",
   "language": "python",
   "name": "python3"
  },
  "language_info": {
   "codemirror_mode": {
    "name": "ipython",
    "version": 3
   },
   "file_extension": ".py",
   "mimetype": "text/x-python",
   "name": "python",
   "nbconvert_exporter": "python",
   "pygments_lexer": "ipython3",
   "version": "3.11.5"
  }
 },
 "nbformat": 4,
 "nbformat_minor": 5
}
