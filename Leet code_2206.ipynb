{
 "cells": [
  {
   "cell_type": "code",
   "execution_count": null,
   "id": "e6b4faad",
   "metadata": {},
   "outputs": [],
   "source": [
    "class Solution:\n",
    "    def divideArray(self, nums: List[int]) -> bool:\n",
    "        if len(nums)%2 != 0:\n",
    "            return False\n",
    "        else:\n",
    "            for i in nums:\n",
    "                if nums.count(i)%2 != 0:\n",
    "                    return False\n",
    "            else:\n",
    "                return True"
   ]
  }
 ],
 "metadata": {
  "kernelspec": {
   "display_name": "Python 3 (ipykernel)",
   "language": "python",
   "name": "python3"
  },
  "language_info": {
   "codemirror_mode": {
    "name": "ipython",
    "version": 3
   },
   "file_extension": ".py",
   "mimetype": "text/x-python",
   "name": "python",
   "nbconvert_exporter": "python",
   "pygments_lexer": "ipython3",
   "version": "3.11.5"
  }
 },
 "nbformat": 4,
 "nbformat_minor": 5
}
