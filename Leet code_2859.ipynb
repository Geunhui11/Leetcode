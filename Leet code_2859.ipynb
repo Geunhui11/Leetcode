{
 "cells": [
  {
   "cell_type": "code",
   "execution_count": null,
   "id": "82f1b219",
   "metadata": {},
   "outputs": [],
   "source": [
    "class Solution:\n",
    "    def sumIndicesWithKSetBits(self, nums: List[int], k: int) -> int:\n",
    "        count = 0\n",
    "        def binary(n):\n",
    "            given = ''\n",
    "            while n > 0:\n",
    "                x = n % 2\n",
    "                given = str(x) + given\n",
    "                n = (n - (n % 2))//2\n",
    "            return given\n",
    "        for i in range(len(nums)):\n",
    "            if list(binary(i)).count('1') == k:\n",
    "                count += nums[i]\n",
    "        return count"
   ]
  }
 ],
 "metadata": {
  "kernelspec": {
   "display_name": "Python 3 (ipykernel)",
   "language": "python",
   "name": "python3"
  },
  "language_info": {
   "codemirror_mode": {
    "name": "ipython",
    "version": 3
   },
   "file_extension": ".py",
   "mimetype": "text/x-python",
   "name": "python",
   "nbconvert_exporter": "python",
   "pygments_lexer": "ipython3",
   "version": "3.11.5"
  }
 },
 "nbformat": 4,
 "nbformat_minor": 5
}
