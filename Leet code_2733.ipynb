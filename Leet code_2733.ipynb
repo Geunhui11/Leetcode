{
 "cells": [
  {
   "cell_type": "code",
   "execution_count": null,
   "id": "7391c0a9",
   "metadata": {},
   "outputs": [],
   "source": [
    "class Solution:\n",
    "    def findNonMinOrMax(self, nums: List[int]) -> int:\n",
    "        if len(nums) >= 2:  \n",
    "            nums.remove(max(nums))\n",
    "            nums.remove(min(nums))\n",
    "            if len(nums) == 0:\n",
    "                return -1\n",
    "            else:\n",
    "                return nums[0]\n",
    "        else:\n",
    "            return -1"
   ]
  }
 ],
 "metadata": {
  "kernelspec": {
   "display_name": "Python 3 (ipykernel)",
   "language": "python",
   "name": "python3"
  },
  "language_info": {
   "codemirror_mode": {
    "name": "ipython",
    "version": 3
   },
   "file_extension": ".py",
   "mimetype": "text/x-python",
   "name": "python",
   "nbconvert_exporter": "python",
   "pygments_lexer": "ipython3",
   "version": "3.11.5"
  }
 },
 "nbformat": 4,
 "nbformat_minor": 5
}
