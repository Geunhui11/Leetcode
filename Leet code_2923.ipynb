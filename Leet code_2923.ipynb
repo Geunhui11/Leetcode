{
 "cells": [
  {
   "cell_type": "code",
   "execution_count": null,
   "id": "9bf23054",
   "metadata": {},
   "outputs": [],
   "source": [
    "class Solution:\n",
    "    def findChampion(self, grid: List[List[int]]) -> int:\n",
    "        champion = 0\n",
    "        \n",
    "        for i in range(1, len(grid)):\n",
    "            if grid[i][champion] == 1:\n",
    "                champion = i\n",
    "        \n",
    "        for j in range(len(grid)):\n",
    "            if j != champion and grid[champion][j] == 0:\n",
    "                return -1\n",
    "        \n",
    "        return champion"
   ]
  }
 ],
 "metadata": {
  "kernelspec": {
   "display_name": "Python 3 (ipykernel)",
   "language": "python",
   "name": "python3"
  },
  "language_info": {
   "codemirror_mode": {
    "name": "ipython",
    "version": 3
   },
   "file_extension": ".py",
   "mimetype": "text/x-python",
   "name": "python",
   "nbconvert_exporter": "python",
   "pygments_lexer": "ipython3",
   "version": "3.11.5"
  }
 },
 "nbformat": 4,
 "nbformat_minor": 5
}
