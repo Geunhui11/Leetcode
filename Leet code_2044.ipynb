{
 "cells": [
  {
   "cell_type": "code",
   "execution_count": null,
   "id": "e9a617f7",
   "metadata": {},
   "outputs": [],
   "source": [
    "class Solution:\n",
    "    def countMaxOrSubsets(self, nums: List[int]) -> int:\n",
    "        length = len(nums)\n",
    "        count = 0\n",
    "        max_or = 0\n",
    "        bit_subset = [format(n,'0'+str(length)+'b') for n in range(2**length)]\n",
    "        \n",
    "        for num in nums:\n",
    "            max_or = max_or | num\n",
    "        \n",
    "        for i in range(len(bit_subset)):\n",
    "            a = []\n",
    "            for j in range(length):\n",
    "                if bit_subset[i][j] == '1':\n",
    "                    a.append(nums[j])\n",
    "            temp = 0\n",
    "            for l in range(len(a)):\n",
    "                temp = temp | a[l]\n",
    "            if max_or == temp:\n",
    "                count += 1\n",
    "        return count"
   ]
  }
 ],
 "metadata": {
  "kernelspec": {
   "display_name": "Python 3 (ipykernel)",
   "language": "python",
   "name": "python3"
  },
  "language_info": {
   "codemirror_mode": {
    "name": "ipython",
    "version": 3
   },
   "file_extension": ".py",
   "mimetype": "text/x-python",
   "name": "python",
   "nbconvert_exporter": "python",
   "pygments_lexer": "ipython3",
   "version": "3.11.5"
  }
 },
 "nbformat": 4,
 "nbformat_minor": 5
}
