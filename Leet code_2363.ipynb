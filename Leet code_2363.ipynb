{
 "cells": [
  {
   "cell_type": "code",
   "execution_count": null,
   "id": "2b91562f",
   "metadata": {},
   "outputs": [],
   "source": [
    "class Solution:\n",
    "    def mergeSimilarItems(self, items1: List[List[int]], items2: List[List[int]]) -> List[List[int]]:\n",
    "        out = []\n",
    "        item = items1 + items2\n",
    "        S = set(item[i][0] for i in range(len(item)))\n",
    "        for value in S:\n",
    "            weight = 0\n",
    "            for j in range(len(item)):\n",
    "                if item[j][0] == value:\n",
    "                    weight += item[j][1]\n",
    "            out.append([value,weight])\n",
    "        out.sort()\n",
    "        return out"
   ]
  }
 ],
 "metadata": {
  "kernelspec": {
   "display_name": "Python 3 (ipykernel)",
   "language": "python",
   "name": "python3"
  },
  "language_info": {
   "codemirror_mode": {
    "name": "ipython",
    "version": 3
   },
   "file_extension": ".py",
   "mimetype": "text/x-python",
   "name": "python",
   "nbconvert_exporter": "python",
   "pygments_lexer": "ipython3",
   "version": "3.11.5"
  }
 },
 "nbformat": 4,
 "nbformat_minor": 5
}
