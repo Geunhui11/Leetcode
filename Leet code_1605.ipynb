{
 "cells": [
  {
   "cell_type": "code",
   "execution_count": null,
   "id": "36062c3a",
   "metadata": {},
   "outputs": [],
   "source": [
    "class Solution:\n",
    "    def restoreMatrix(self, rowSum: List[int], colSum: List[int]) -> List[List[int]]:\n",
    "        m, n = len(rowSum), len(colSum)\n",
    "        \n",
    "        dp = [[0]*n for _ in range(m)]\n",
    "\n",
    "        for i in range(m):\n",
    "            for j in range(n):\n",
    "                dp[i][j] = min(rowSum[i],colSum[j])\n",
    "                rowSum[i] -= dp[i][j]\n",
    "                colSum[j] -= dp[i][j]\n",
    "        return dp"
   ]
  }
 ],
 "metadata": {
  "kernelspec": {
   "display_name": "Python 3 (ipykernel)",
   "language": "python",
   "name": "python3"
  },
  "language_info": {
   "codemirror_mode": {
    "name": "ipython",
    "version": 3
   },
   "file_extension": ".py",
   "mimetype": "text/x-python",
   "name": "python",
   "nbconvert_exporter": "python",
   "pygments_lexer": "ipython3",
   "version": "3.11.5"
  }
 },
 "nbformat": 4,
 "nbformat_minor": 5
}
