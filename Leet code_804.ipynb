{
 "cells": [
  {
   "cell_type": "code",
   "execution_count": null,
   "id": "fe64f46a",
   "metadata": {},
   "outputs": [],
   "source": [
    "class Solution:\n",
    "    def uniqueMorseRepresentations(self, words: List[str]) -> int:\n",
    "        Alphabet_Morse = [\".-\",\"-...\",\"-.-.\",\"-..\",\".\",\"..-.\",\"--.\",\"....\",\"..\",\".---\",\"-.-\",\".-..\",\"--\",\"-.\",\"---\",\".--.\",\"--.-\",\".-.\",\"...\",\"-\",\"..-\",\"...-\",\".--\",\"-..-\",\"-.--\",\"--..\"]\n",
    "        Alphabet = 'abcdefghijklmnopqrstuvwxyz'\n",
    "        dict_transform = {}\n",
    "\n",
    "        for key,value in zip(Alphabet, Alphabet_Morse):\n",
    "            dict_transform[key] = value\n",
    "        \n",
    "        set_transformation = set()\n",
    "        for word in words:\n",
    "            result = ''\n",
    "            for j in range(len(word)):\n",
    "                result += dict_transform[word[j]]\n",
    "            set_transformation.add(result)\n",
    "\n",
    "        return len(set_transformation)"
   ]
  }
 ],
 "metadata": {
  "kernelspec": {
   "display_name": "Python 3 (ipykernel)",
   "language": "python",
   "name": "python3"
  },
  "language_info": {
   "codemirror_mode": {
    "name": "ipython",
    "version": 3
   },
   "file_extension": ".py",
   "mimetype": "text/x-python",
   "name": "python",
   "nbconvert_exporter": "python",
   "pygments_lexer": "ipython3",
   "version": "3.11.5"
  }
 },
 "nbformat": 4,
 "nbformat_minor": 5
}
