{
 "cells": [
  {
   "cell_type": "code",
   "execution_count": null,
   "id": "8eead5a7",
   "metadata": {},
   "outputs": [],
   "source": [
    "class Solution:\n",
    "    def leftRightDifference(self, nums: List[int]) -> List[int]:\n",
    "        output = []\n",
    "        for i in range(len(nums)):\n",
    "            if i == 0:\n",
    "                left_sum = 0\n",
    "                right_sum = sum(nums[i+1:])\n",
    "            elif i == len(nums):\n",
    "                left_sum = sum(nums[:i])\n",
    "                right_sum = 0\n",
    "            else:\n",
    "                right_sum = sum(nums[i+1:])\n",
    "                left_sum = sum(nums[:i])\n",
    "            output.append(abs(right_sum - left_sum))\n",
    "        return output"
   ]
  }
 ],
 "metadata": {
  "kernelspec": {
   "display_name": "Python 3 (ipykernel)",
   "language": "python",
   "name": "python3"
  },
  "language_info": {
   "codemirror_mode": {
    "name": "ipython",
    "version": 3
   },
   "file_extension": ".py",
   "mimetype": "text/x-python",
   "name": "python",
   "nbconvert_exporter": "python",
   "pygments_lexer": "ipython3",
   "version": "3.11.5"
  }
 },
 "nbformat": 4,
 "nbformat_minor": 5
}
