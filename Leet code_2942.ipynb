{
 "cells": [
  {
   "cell_type": "code",
   "execution_count": null,
   "id": "be11fb81",
   "metadata": {},
   "outputs": [],
   "source": [
    "class Solution:\n",
    "    def findWordsContaining(self, words: List[str], x: str) -> List[int]:\n",
    "        out = []\n",
    "        for i in range(len(words)):\n",
    "            if x in words[i]:\n",
    "                out.append(i)\n",
    "        return out"
   ]
  }
 ],
 "metadata": {
  "kernelspec": {
   "display_name": "Python 3 (ipykernel)",
   "language": "python",
   "name": "python3"
  },
  "language_info": {
   "codemirror_mode": {
    "name": "ipython",
    "version": 3
   },
   "file_extension": ".py",
   "mimetype": "text/x-python",
   "name": "python",
   "nbconvert_exporter": "python",
   "pygments_lexer": "ipython3",
   "version": "3.11.5"
  }
 },
 "nbformat": 4,
 "nbformat_minor": 5
}
