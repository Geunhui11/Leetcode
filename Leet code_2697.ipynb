{
 "cells": [
  {
   "cell_type": "code",
   "execution_count": 11,
   "id": "d0229e4c",
   "metadata": {},
   "outputs": [],
   "source": [
    "class Solution:\n",
    "    def makeSmallestPalindrome(self, s: str) -> str:\n",
    "        alphabet = 'abcdefghijklmnopqrstuvwxyz'\n",
    "        orders = [i for i in range(len(alphabet))]\n",
    "        order_alphabet = {key : value for key, value in zip(alphabet, orders)}\n",
    "\n",
    "        list_s = list(s)\n",
    "        list_reverse_s = list(s)[::-1]\n",
    "\n",
    "        for i in range(len(s)):\n",
    "            if list_s[i] == list_reverse_s[i]:\n",
    "                continue\n",
    "            else:\n",
    "                if order_alphabet[list_s[i]] > order_alphabet[list_reverse_s[i]]:\n",
    "                    list_s[i] = list_reverse_s[i]\n",
    "                else:\n",
    "                    continue\n",
    "        return ''.join(list_s)"
   ]
  },
  {
   "cell_type": "code",
   "execution_count": null,
   "id": "a723295d",
   "metadata": {},
   "outputs": [],
   "source": []
  }
 ],
 "metadata": {
  "kernelspec": {
   "display_name": "Python 3 (ipykernel)",
   "language": "python",
   "name": "python3"
  },
  "language_info": {
   "codemirror_mode": {
    "name": "ipython",
    "version": 3
   },
   "file_extension": ".py",
   "mimetype": "text/x-python",
   "name": "python",
   "nbconvert_exporter": "python",
   "pygments_lexer": "ipython3",
   "version": "3.11.5"
  }
 },
 "nbformat": 4,
 "nbformat_minor": 5
}
