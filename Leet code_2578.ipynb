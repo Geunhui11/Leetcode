{
 "cells": [
  {
   "cell_type": "code",
   "execution_count": null,
   "id": "28ccd373",
   "metadata": {},
   "outputs": [],
   "source": [
    "from queue import PriorityQueue\n",
    "\n",
    "class Solution:\n",
    "    def splitNum(self, num: int) -> int:\n",
    "        a = [int(x) for x in str(num)]\n",
    "        pq = PriorityQueue()\n",
    "        num1 = \"\"\n",
    "        num2 = \"\"\n",
    "        for i in a:\n",
    "            pq.put(i)\n",
    "\n",
    "        while not pq.empty():\n",
    "            num1 += str(pq.get())\n",
    "            if not pq.empty():\n",
    "                num2 += str(pq.get())\n",
    "\n",
    "        if num2:\n",
    "            return int(num1) + int(num2)\n",
    "        else:\n",
    "            return int(num1)\n",
    "        "
   ]
  }
 ],
 "metadata": {
  "kernelspec": {
   "display_name": "Python 3 (ipykernel)",
   "language": "python",
   "name": "python3"
  },
  "language_info": {
   "codemirror_mode": {
    "name": "ipython",
    "version": 3
   },
   "file_extension": ".py",
   "mimetype": "text/x-python",
   "name": "python",
   "nbconvert_exporter": "python",
   "pygments_lexer": "ipython3",
   "version": "3.11.5"
  }
 },
 "nbformat": 4,
 "nbformat_minor": 5
}
