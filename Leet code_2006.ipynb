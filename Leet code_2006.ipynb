{
 "cells": [
  {
   "cell_type": "code",
   "execution_count": null,
   "id": "77163884",
   "metadata": {},
   "outputs": [],
   "source": [
    "class Solution:\n",
    "    def countKDifference(self, nums: List[int], k: int) -> int:\n",
    "        count = 0\n",
    "        for i in range(len(nums)-1):\n",
    "            for j in range(i,len(nums)):\n",
    "                if abs(nums[i] - nums[j]) == k:\n",
    "                    count += 1\n",
    "        return count"
   ]
  }
 ],
 "metadata": {
  "kernelspec": {
   "display_name": "Python 3 (ipykernel)",
   "language": "python",
   "name": "python3"
  },
  "language_info": {
   "codemirror_mode": {
    "name": "ipython",
    "version": 3
   },
   "file_extension": ".py",
   "mimetype": "text/x-python",
   "name": "python",
   "nbconvert_exporter": "python",
   "pygments_lexer": "ipython3",
   "version": "3.11.5"
  }
 },
 "nbformat": 4,
 "nbformat_minor": 5
}
