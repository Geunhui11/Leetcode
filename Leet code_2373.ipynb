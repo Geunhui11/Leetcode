{
 "cells": [
  {
   "cell_type": "code",
   "execution_count": null,
   "id": "93859f8c",
   "metadata": {},
   "outputs": [],
   "source": [
    "class Solution:\n",
    "    def largestLocal(self, grid: List[List[int]]) -> List[List[int]]:\n",
    "        max_grid = [[] for _ in range(len(grid)-2)]\n",
    "        for i in range(1,len(grid)-1):\n",
    "            for j in range(1,len(grid)-1):\n",
    "                max_num = 0\n",
    "                for k in range(i-1,i+2):\n",
    "                    for l in range(j-1,j+2):\n",
    "                        if grid[k][l] > max_num:\n",
    "                            max_num = grid[k][l]\n",
    "                max_grid[i-1].insert(j-1, max_num)\n",
    "        return max_grid"
   ]
  }
 ],
 "metadata": {
  "kernelspec": {
   "display_name": "Python 3 (ipykernel)",
   "language": "python",
   "name": "python3"
  },
  "language_info": {
   "codemirror_mode": {
    "name": "ipython",
    "version": 3
   },
   "file_extension": ".py",
   "mimetype": "text/x-python",
   "name": "python",
   "nbconvert_exporter": "python",
   "pygments_lexer": "ipython3",
   "version": "3.11.5"
  }
 },
 "nbformat": 4,
 "nbformat_minor": 5
}
