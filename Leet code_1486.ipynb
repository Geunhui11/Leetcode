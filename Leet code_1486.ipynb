{
 "cells": [
  {
   "cell_type": "code",
   "execution_count": null,
   "id": "f5a22d13",
   "metadata": {},
   "outputs": [],
   "source": [
    "class Solution:\n",
    "    def xorOperation(self, n: int, start: int) -> int:\n",
    "        nums = [start + 2*i for i in range(n)]\n",
    "        xor_result = 0\n",
    "\n",
    "        for num in nums:\n",
    "            xor_result ^= num\n",
    "        \n",
    "        return xor_result"
   ]
  }
 ],
 "metadata": {
  "kernelspec": {
   "display_name": "Python 3 (ipykernel)",
   "language": "python",
   "name": "python3"
  },
  "language_info": {
   "codemirror_mode": {
    "name": "ipython",
    "version": 3
   },
   "file_extension": ".py",
   "mimetype": "text/x-python",
   "name": "python",
   "nbconvert_exporter": "python",
   "pygments_lexer": "ipython3",
   "version": "3.11.5"
  }
 },
 "nbformat": 4,
 "nbformat_minor": 5
}
