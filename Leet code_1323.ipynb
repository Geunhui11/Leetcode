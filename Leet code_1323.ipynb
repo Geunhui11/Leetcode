{
 "cells": [
  {
   "cell_type": "code",
   "execution_count": null,
   "id": "b7fbb4c3",
   "metadata": {},
   "outputs": [],
   "source": [
    "class Solution:\n",
    "    def maximum69Number (self, num: int) -> int:\n",
    "        str_num = str(num)\n",
    "        list_num = [int(digit) for digit in str_num]\n",
    "        \n",
    "        if all(num == 9 for num in list_num):\n",
    "                return num\n",
    "        index_6 = list_num.index(6)\n",
    "        list_num[index_6] = 9\n",
    "        back_list_num = [str(digit) for digit in list_num]\n",
    "        back_str_num = ''.join(back_list_num)\n",
    "        return int(back_str_num)"
   ]
  }
 ],
 "metadata": {
  "kernelspec": {
   "display_name": "Python 3 (ipykernel)",
   "language": "python",
   "name": "python3"
  },
  "language_info": {
   "codemirror_mode": {
    "name": "ipython",
    "version": 3
   },
   "file_extension": ".py",
   "mimetype": "text/x-python",
   "name": "python",
   "nbconvert_exporter": "python",
   "pygments_lexer": "ipython3",
   "version": "3.11.5"
  }
 },
 "nbformat": 4,
 "nbformat_minor": 5
}
