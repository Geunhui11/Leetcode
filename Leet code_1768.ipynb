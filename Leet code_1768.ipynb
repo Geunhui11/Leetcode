{
 "cells": [
  {
   "cell_type": "code",
   "execution_count": null,
   "id": "bfad3fc2",
   "metadata": {},
   "outputs": [],
   "source": [
    "class Solution:\n",
    "    def mergeAlternately(self, word1: str, word2: str) -> str:\n",
    "        out = ''\n",
    "        for i in range(min(len(word1),len(word2))):\n",
    "            out += word1[i] + word2[i]\n",
    "        if len(word1)>len(word2):\n",
    "            for i in range(len(word2),len(word1)):\n",
    "                out += word1[i]\n",
    "        else:\n",
    "            for i in range(len(word1),len(word2)):\n",
    "                out += word2[i]\n",
    "        return out"
   ]
  }
 ],
 "metadata": {
  "kernelspec": {
   "display_name": "Python 3 (ipykernel)",
   "language": "python",
   "name": "python3"
  },
  "language_info": {
   "codemirror_mode": {
    "name": "ipython",
    "version": 3
   },
   "file_extension": ".py",
   "mimetype": "text/x-python",
   "name": "python",
   "nbconvert_exporter": "python",
   "pygments_lexer": "ipython3",
   "version": "3.11.5"
  }
 },
 "nbformat": 4,
 "nbformat_minor": 5
}
