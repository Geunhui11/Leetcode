{
 "cells": [
  {
   "cell_type": "code",
   "execution_count": null,
   "id": "e0a1b2b2",
   "metadata": {},
   "outputs": [],
   "source": [
    "class Solution:\n",
    "    def finalPrices(self, prices: List[int]) -> List[int]:\n",
    "        out = []\n",
    "        for i in range(len(prices)-1):\n",
    "            a = []\n",
    "            for j in range(i+1,len(prices)):\n",
    "                if prices[j] <= prices[i]:\n",
    "                    a.append(j)\n",
    "            if len(a) == 0:\n",
    "                out.append(prices[i])\n",
    "            else:\n",
    "                out.append(prices[i]-prices[min(a)])\n",
    "        return out + [prices[-1]]"
   ]
  }
 ],
 "metadata": {
  "kernelspec": {
   "display_name": "Python 3 (ipykernel)",
   "language": "python",
   "name": "python3"
  },
  "language_info": {
   "codemirror_mode": {
    "name": "ipython",
    "version": 3
   },
   "file_extension": ".py",
   "mimetype": "text/x-python",
   "name": "python",
   "nbconvert_exporter": "python",
   "pygments_lexer": "ipython3",
   "version": "3.11.5"
  }
 },
 "nbformat": 4,
 "nbformat_minor": 5
}
