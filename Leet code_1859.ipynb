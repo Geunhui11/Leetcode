{
 "cells": [
  {
   "cell_type": "code",
   "execution_count": null,
   "id": "9c41e637",
   "metadata": {},
   "outputs": [],
   "source": [
    "class Solution:\n",
    "    def sortSentence(self, s: str) -> str:\n",
    "        list_word = s.split()\n",
    "        arr = [i[-1] + i[:-1] for i in list_word]\n",
    "        arr.sort()\n",
    "        ans = ''\n",
    "        for i in arr:\n",
    "            ans += i[1:] + ' '\n",
    "        \n",
    "        return ans[:-1]"
   ]
  }
 ],
 "metadata": {
  "kernelspec": {
   "display_name": "Python 3 (ipykernel)",
   "language": "python",
   "name": "python3"
  },
  "language_info": {
   "codemirror_mode": {
    "name": "ipython",
    "version": 3
   },
   "file_extension": ".py",
   "mimetype": "text/x-python",
   "name": "python",
   "nbconvert_exporter": "python",
   "pygments_lexer": "ipython3",
   "version": "3.11.5"
  }
 },
 "nbformat": 4,
 "nbformat_minor": 5
}
