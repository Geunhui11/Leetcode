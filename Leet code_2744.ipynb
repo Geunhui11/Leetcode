{
 "cells": [
  {
   "cell_type": "code",
   "execution_count": null,
   "id": "9e36e3fc",
   "metadata": {},
   "outputs": [],
   "source": [
    "class Solution:\n",
    "    def maximumNumberOfStringPairs(self, words: List[str]) -> int:\n",
    "        count = 0\n",
    "        for i in range(len(words)-1):\n",
    "            for j in range(i+1,len(words)):\n",
    "                if words[i] == words[j][::-1]:\n",
    "                    count += 1\n",
    "        return count"
   ]
  }
 ],
 "metadata": {
  "kernelspec": {
   "display_name": "Python 3 (ipykernel)",
   "language": "python",
   "name": "python3"
  },
  "language_info": {
   "codemirror_mode": {
    "name": "ipython",
    "version": 3
   },
   "file_extension": ".py",
   "mimetype": "text/x-python",
   "name": "python",
   "nbconvert_exporter": "python",
   "pygments_lexer": "ipython3",
   "version": "3.11.5"
  }
 },
 "nbformat": 4,
 "nbformat_minor": 5
}
