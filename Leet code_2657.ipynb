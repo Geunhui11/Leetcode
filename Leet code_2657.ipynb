{
 "cells": [
  {
   "cell_type": "code",
   "execution_count": null,
   "id": "e29218f3",
   "metadata": {},
   "outputs": [],
   "source": [
    "class Solution:\n",
    "    def findThePrefixCommonArray(self, A: List[int], B: List[int]) -> List[int]:\n",
    "        C = []\n",
    "        for i in range(len(A)):\n",
    "            A_slicing = set(A[0:i+1])\n",
    "            B_slicing = set(B[0:i+1])\n",
    "            intersection_set = A_slicing.intersection(B_slicing)\n",
    "            C.append(len(intersection_set))\n",
    "        return C        "
   ]
  }
 ],
 "metadata": {
  "kernelspec": {
   "display_name": "Python 3 (ipykernel)",
   "language": "python",
   "name": "python3"
  },
  "language_info": {
   "codemirror_mode": {
    "name": "ipython",
    "version": 3
   },
   "file_extension": ".py",
   "mimetype": "text/x-python",
   "name": "python",
   "nbconvert_exporter": "python",
   "pygments_lexer": "ipython3",
   "version": "3.11.5"
  }
 },
 "nbformat": 4,
 "nbformat_minor": 5
}
