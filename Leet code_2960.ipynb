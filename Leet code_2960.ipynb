{
 "cells": [
  {
   "cell_type": "code",
   "execution_count": null,
   "id": "76893f1e",
   "metadata": {},
   "outputs": [],
   "source": [
    "class Solution:\n",
    "    def countTestedDevices(self, batteryPercentages: List[int]) -> int:\n",
    "        for i in range(len(batteryPercentages)):\n",
    "            if batteryPercentages[i] > 0:\n",
    "                for j in range(i+1,len(batteryPercentages)):\n",
    "                    batteryPercentages[j] = max(0, batteryPercentages[j]-1)\n",
    "            elif batteryPercentages[i] == 0:\n",
    "                continue\n",
    "        count = 0\n",
    "        for k in range(len(batteryPercentages)):\n",
    "            if batteryPercentages[k] != 0:\n",
    "                count += 1\n",
    "        return count                "
   ]
  }
 ],
 "metadata": {
  "kernelspec": {
   "display_name": "Python 3 (ipykernel)",
   "language": "python",
   "name": "python3"
  },
  "language_info": {
   "codemirror_mode": {
    "name": "ipython",
    "version": 3
   },
   "file_extension": ".py",
   "mimetype": "text/x-python",
   "name": "python",
   "nbconvert_exporter": "python",
   "pygments_lexer": "ipython3",
   "version": "3.11.5"
  }
 },
 "nbformat": 4,
 "nbformat_minor": 5
}
