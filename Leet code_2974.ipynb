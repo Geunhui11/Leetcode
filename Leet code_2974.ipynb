{
 "cells": [
  {
   "cell_type": "code",
   "execution_count": null,
   "id": "a17d6497",
   "metadata": {},
   "outputs": [],
   "source": [
    "class Solution:\n",
    "    def numberGame(self, nums: List[int]) -> List[int]:\n",
    "        output = []\n",
    "        for i in range(len(nums)//2):\n",
    "            storage = []\n",
    "            storage.append(min(nums))\n",
    "            nums.remove(min(nums))\n",
    "            storage.insert(0,min(nums))\n",
    "            nums.remove(min(nums))\n",
    "            output += storage\n",
    "        return output"
   ]
  }
 ],
 "metadata": {
  "kernelspec": {
   "display_name": "Python 3 (ipykernel)",
   "language": "python",
   "name": "python3"
  },
  "language_info": {
   "codemirror_mode": {
    "name": "ipython",
    "version": 3
   },
   "file_extension": ".py",
   "mimetype": "text/x-python",
   "name": "python",
   "nbconvert_exporter": "python",
   "pygments_lexer": "ipython3",
   "version": "3.11.5"
  }
 },
 "nbformat": 4,
 "nbformat_minor": 5
}
