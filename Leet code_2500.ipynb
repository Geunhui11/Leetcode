{
 "cells": [
  {
   "cell_type": "code",
   "execution_count": null,
   "id": "41d10cec",
   "metadata": {},
   "outputs": [],
   "source": [
    "class Solution:\n",
    "    def deleteGreatestValue(self, grid: List[List[int]]) -> int:\n",
    "        out = 0\n",
    "        for row in grid:\n",
    "            row.sort(reverse = True)\n",
    "        for i in range(len(grid[0])):\n",
    "            a = [lst[i] for lst in grid]\n",
    "            out += max(a)\n",
    "        return out"
   ]
  }
 ],
 "metadata": {
  "kernelspec": {
   "display_name": "Python 3 (ipykernel)",
   "language": "python",
   "name": "python3"
  },
  "language_info": {
   "codemirror_mode": {
    "name": "ipython",
    "version": 3
   },
   "file_extension": ".py",
   "mimetype": "text/x-python",
   "name": "python",
   "nbconvert_exporter": "python",
   "pygments_lexer": "ipython3",
   "version": "3.11.5"
  }
 },
 "nbformat": 4,
 "nbformat_minor": 5
}
