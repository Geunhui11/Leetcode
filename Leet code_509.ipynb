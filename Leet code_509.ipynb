{
 "cells": [
  {
   "cell_type": "code",
   "execution_count": null,
   "id": "23bdbc0d",
   "metadata": {},
   "outputs": [],
   "source": [
    "class Solution:\n",
    "    def fib(self, n: int) -> int:\n",
    "        a = []\n",
    "        for i in range(n+1):\n",
    "            if i == 0:\n",
    "                a.append(0)\n",
    "            elif i == 1:\n",
    "                a.append(1)\n",
    "            else:\n",
    "                a.append(a[i-1]+a[i-2])\n",
    "        return a[n]        "
   ]
  }
 ],
 "metadata": {
  "kernelspec": {
   "display_name": "Python 3 (ipykernel)",
   "language": "python",
   "name": "python3"
  },
  "language_info": {
   "codemirror_mode": {
    "name": "ipython",
    "version": 3
   },
   "file_extension": ".py",
   "mimetype": "text/x-python",
   "name": "python",
   "nbconvert_exporter": "python",
   "pygments_lexer": "ipython3",
   "version": "3.11.5"
  }
 },
 "nbformat": 4,
 "nbformat_minor": 5
}
