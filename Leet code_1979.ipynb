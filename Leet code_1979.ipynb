{
 "cells": [
  {
   "cell_type": "code",
   "execution_count": null,
   "id": "dc793650",
   "metadata": {},
   "outputs": [],
   "source": [
    "class Solution:\n",
    "    def findGCD(self, nums: List[int]) -> int:\n",
    "        divisors = []\n",
    "        for i in range(1,min(nums)+1):\n",
    "            if max(nums) % i == 0 and min(nums) % i == 0:\n",
    "                divisors.append(i)\n",
    "        return max(divisors)"
   ]
  }
 ],
 "metadata": {
  "kernelspec": {
   "display_name": "Python 3 (ipykernel)",
   "language": "python",
   "name": "python3"
  },
  "language_info": {
   "codemirror_mode": {
    "name": "ipython",
    "version": 3
   },
   "file_extension": ".py",
   "mimetype": "text/x-python",
   "name": "python",
   "nbconvert_exporter": "python",
   "pygments_lexer": "ipython3",
   "version": "3.11.5"
  }
 },
 "nbformat": 4,
 "nbformat_minor": 5
}
