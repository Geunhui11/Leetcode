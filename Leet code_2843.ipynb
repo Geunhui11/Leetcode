{
 "cells": [
  {
   "cell_type": "code",
   "execution_count": null,
   "id": "613f2356",
   "metadata": {},
   "outputs": [],
   "source": [
    "class Solution:\n",
    "    def countSymmetricIntegers(self, low: int, high: int) -> int:\n",
    "        count = 0\n",
    "        for num in range(low,high+1):\n",
    "            if len(str(num)) % 2 == 1:\n",
    "                continue\n",
    "            else:\n",
    "                list_first = [int(n) for n in list(str(num)[0:len(str(num))//2])]\n",
    "                list_second = [int(m) for m in list(str(num)[len(str(num))//2:len(str(num))])]\n",
    "                if sum(list_first) == sum(list_second):\n",
    "                    count += 1\n",
    "        return count"
   ]
  }
 ],
 "metadata": {
  "kernelspec": {
   "display_name": "Python 3 (ipykernel)",
   "language": "python",
   "name": "python3"
  },
  "language_info": {
   "codemirror_mode": {
    "name": "ipython",
    "version": 3
   },
   "file_extension": ".py",
   "mimetype": "text/x-python",
   "name": "python",
   "nbconvert_exporter": "python",
   "pygments_lexer": "ipython3",
   "version": "3.11.5"
  }
 },
 "nbformat": 4,
 "nbformat_minor": 5
}
