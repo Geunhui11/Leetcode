{
 "cells": [
  {
   "cell_type": "code",
   "execution_count": null,
   "id": "6e79ba15",
   "metadata": {},
   "outputs": [],
   "source": [
    "class Solution:\n",
    "    def heightChecker(self, heights: List[int]) -> int:\n",
    "        count = 0\n",
    "        sort_height = sorted(heights)\n",
    "        for i in range(len(heights)):\n",
    "            if heights[i] != sort_height[i]:\n",
    "                count += 1\n",
    "        return count"
   ]
  }
 ],
 "metadata": {
  "kernelspec": {
   "display_name": "Python 3 (ipykernel)",
   "language": "python",
   "name": "python3"
  },
  "language_info": {
   "codemirror_mode": {
    "name": "ipython",
    "version": 3
   },
   "file_extension": ".py",
   "mimetype": "text/x-python",
   "name": "python",
   "nbconvert_exporter": "python",
   "pygments_lexer": "ipython3",
   "version": "3.11.5"
  }
 },
 "nbformat": 4,
 "nbformat_minor": 5
}
