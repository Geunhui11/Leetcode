{
 "cells": [
  {
   "cell_type": "code",
   "execution_count": null,
   "id": "787c4afc",
   "metadata": {},
   "outputs": [],
   "source": [
    "s, m, n = 0, len(grid), len(grid[0])\n",
    "        grid = [x+[0] for x in grid] + [[0]*n]                          \n",
    " \n",
    "        for row in range(m):\n",
    "            for col in range(n):\n",
    "                if grid[row][col] == 1:\n",
    "                    s+= 4 - 2 * (grid[row+1][col] + grid[row][col+1])   \n",
    "        return s"
   ]
  }
 ],
 "metadata": {
  "kernelspec": {
   "display_name": "Python 3 (ipykernel)",
   "language": "python",
   "name": "python3"
  },
  "language_info": {
   "codemirror_mode": {
    "name": "ipython",
    "version": 3
   },
   "file_extension": ".py",
   "mimetype": "text/x-python",
   "name": "python",
   "nbconvert_exporter": "python",
   "pygments_lexer": "ipython3",
   "version": "3.11.5"
  }
 },
 "nbformat": 4,
 "nbformat_minor": 5
}
