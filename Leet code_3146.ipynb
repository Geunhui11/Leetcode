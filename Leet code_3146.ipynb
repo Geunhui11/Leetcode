{
 "cells": [
  {
   "cell_type": "code",
   "execution_count": null,
   "id": "18fc1698",
   "metadata": {},
   "outputs": [],
   "source": [
    "class Solution:\n",
    "    def findPermutationDifference(self, s: str, t: str) -> int:\n",
    "        out = 0\n",
    "        for char in s:\n",
    "            out += abs(s.find(char) - t.find(char))\n",
    "        return out"
   ]
  }
 ],
 "metadata": {
  "kernelspec": {
   "display_name": "Python 3 (ipykernel)",
   "language": "python",
   "name": "python3"
  },
  "language_info": {
   "codemirror_mode": {
    "name": "ipython",
    "version": 3
   },
   "file_extension": ".py",
   "mimetype": "text/x-python",
   "name": "python",
   "nbconvert_exporter": "python",
   "pygments_lexer": "ipython3",
   "version": "3.11.5"
  }
 },
 "nbformat": 4,
 "nbformat_minor": 5
}
