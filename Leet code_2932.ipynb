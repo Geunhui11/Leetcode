{
 "cells": [
  {
   "cell_type": "code",
   "execution_count": null,
   "id": "f09e5b35",
   "metadata": {},
   "outputs": [],
   "source": [
    "class Solution:\n",
    "    def maximumStrongPairXor(self, nums: List[int]) -> int:\n",
    "        out = []\n",
    "        for i in range(len(nums)-1):\n",
    "            for j in range(i+1,len(nums)):\n",
    "                if abs(nums[i] - nums[j]) <= min(nums[i],nums[j]):\n",
    "                    out.append((nums[i],nums[j]))\n",
    "        max_XOR = 0\n",
    "        for tup in out:\n",
    "            if tup[0]^tup[1] >= max_XOR:\n",
    "                max_XOR = tup[0]^tup[1]\n",
    "        return max_XOR        "
   ]
  }
 ],
 "metadata": {
  "kernelspec": {
   "display_name": "Python 3 (ipykernel)",
   "language": "python",
   "name": "python3"
  },
  "language_info": {
   "codemirror_mode": {
    "name": "ipython",
    "version": 3
   },
   "file_extension": ".py",
   "mimetype": "text/x-python",
   "name": "python",
   "nbconvert_exporter": "python",
   "pygments_lexer": "ipython3",
   "version": "3.11.5"
  }
 },
 "nbformat": 4,
 "nbformat_minor": 5
}
