{
 "cells": [
  {
   "cell_type": "code",
   "execution_count": null,
   "id": "5707df6a",
   "metadata": {},
   "outputs": [],
   "source": [
    "class Solution:\n",
    "    def sortTheStudents(self, score: List[List[int]], k: int) -> List[List[int]]:\n",
    "        kth_exam_score = []\n",
    "        for i in range(len(score)):\n",
    "            kth_exam_score.append([i,score[i][k]])\n",
    "        for j in range(len(kth_exam_score)):\n",
    "            kth_exam_score[j] = kth_exam_score[j][::-1]\n",
    "        kth_exam_score.sort(reverse = True)\n",
    "        new_score = []\n",
    "        for m in range(len(score)):\n",
    "            new_score.append(score[kth_exam_score[m][1]])\n",
    "        return new_score"
   ]
  }
 ],
 "metadata": {
  "kernelspec": {
   "display_name": "Python 3 (ipykernel)",
   "language": "python",
   "name": "python3"
  },
  "language_info": {
   "codemirror_mode": {
    "name": "ipython",
    "version": 3
   },
   "file_extension": ".py",
   "mimetype": "text/x-python",
   "name": "python",
   "nbconvert_exporter": "python",
   "pygments_lexer": "ipython3",
   "version": "3.11.5"
  }
 },
 "nbformat": 4,
 "nbformat_minor": 5
}
