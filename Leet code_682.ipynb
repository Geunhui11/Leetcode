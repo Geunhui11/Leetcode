{
 "cells": [
  {
   "cell_type": "code",
   "execution_count": null,
   "id": "cae63b60",
   "metadata": {},
   "outputs": [],
   "source": [
    "class Solution:\n",
    "    def calPoints(self, operations: List[str]) -> int:\n",
    "        out = []\n",
    "        for op in operations:\n",
    "            if op == '+':\n",
    "                out.append(out[-1] + out[-2])\n",
    "            elif op == 'C':\n",
    "                del out[-1]\n",
    "            elif op == 'D':\n",
    "                out.append(out[-1]*2)\n",
    "            else:\n",
    "                score = int(op)\n",
    "                out.append(score)\n",
    "        return sum(out)"
   ]
  },
  {
   "cell_type": "code",
   "execution_count": 4,
   "id": "40b69e7f",
   "metadata": {},
   "outputs": [],
   "source": [
    "s= '65'"
   ]
  },
  {
   "cell_type": "code",
   "execution_count": 9,
   "id": "9e74624f",
   "metadata": {},
   "outputs": [
    {
     "data": {
      "text/plain": [
       "True"
      ]
     },
     "execution_count": 9,
     "metadata": {},
     "output_type": "execute_result"
    }
   ],
   "source": [
    "type(int(s)) == int"
   ]
  },
  {
   "cell_type": "code",
   "execution_count": null,
   "id": "c772ca68",
   "metadata": {},
   "outputs": [],
   "source": []
  }
 ],
 "metadata": {
  "kernelspec": {
   "display_name": "Python 3 (ipykernel)",
   "language": "python",
   "name": "python3"
  },
  "language_info": {
   "codemirror_mode": {
    "name": "ipython",
    "version": 3
   },
   "file_extension": ".py",
   "mimetype": "text/x-python",
   "name": "python",
   "nbconvert_exporter": "python",
   "pygments_lexer": "ipython3",
   "version": "3.11.5"
  }
 },
 "nbformat": 4,
 "nbformat_minor": 5
}
