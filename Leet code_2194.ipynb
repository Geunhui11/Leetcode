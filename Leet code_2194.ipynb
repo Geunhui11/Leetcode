{
 "cells": [
  {
   "cell_type": "code",
   "execution_count": null,
   "id": "ad8126cc",
   "metadata": {},
   "outputs": [],
   "source": [
    "class Solution:\n",
    "    def cellsInRange(self, s: str) -> List[str]:\n",
    "        output = []\n",
    "        list_Alphabet = list('ABCDEFGHIJKLMNOPQRSTUVWXYZ')\n",
    "        first_col = list_Alphabet.index(s[0])\n",
    "        second_col = list_Alphabet.index(s[3])\n",
    "        first_row = int(s[1])\n",
    "        second_row = int(s[4])\n",
    "\n",
    "        for i in range(first_col,second_col+1):\n",
    "            for j in range(first_row,second_row+1):\n",
    "                word = list_Alphabet[i] + str(j)\n",
    "                output += [word]\n",
    "        return output"
   ]
  }
 ],
 "metadata": {
  "kernelspec": {
   "display_name": "Python 3 (ipykernel)",
   "language": "python",
   "name": "python3"
  },
  "language_info": {
   "codemirror_mode": {
    "name": "ipython",
    "version": 3
   },
   "file_extension": ".py",
   "mimetype": "text/x-python",
   "name": "python",
   "nbconvert_exporter": "python",
   "pygments_lexer": "ipython3",
   "version": "3.11.5"
  }
 },
 "nbformat": 4,
 "nbformat_minor": 5
}
