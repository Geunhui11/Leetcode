{
 "cells": [
  {
   "cell_type": "code",
   "execution_count": null,
   "id": "21159a4f",
   "metadata": {},
   "outputs": [],
   "source": [
    "class Solution:\n",
    "    def findMissingAndRepeatedValues(self, grid: List[List[int]]) -> List[int]:\n",
    "        n = len(grid)\n",
    "        numbers = [i for i in range(1,n**2 + 1)]\n",
    "        numbers_twice = numbers *2\n",
    "        ans = []\n",
    "        for i in range(n):\n",
    "            for j in range(n):\n",
    "                numbers_twice.remove(grid[i][j])\n",
    "        for number in numbers:\n",
    "            if numbers_twice.count(number) == 0:\n",
    "                ans.insert(0,number)\n",
    "            if numbers_twice.count(number) == 2:\n",
    "                ans.insert(1,number)\n",
    "        return ans"
   ]
  }
 ],
 "metadata": {
  "kernelspec": {
   "display_name": "Python 3 (ipykernel)",
   "language": "python",
   "name": "python3"
  },
  "language_info": {
   "codemirror_mode": {
    "name": "ipython",
    "version": 3
   },
   "file_extension": ".py",
   "mimetype": "text/x-python",
   "name": "python",
   "nbconvert_exporter": "python",
   "pygments_lexer": "ipython3",
   "version": "3.11.5"
  }
 },
 "nbformat": 4,
 "nbformat_minor": 5
}
