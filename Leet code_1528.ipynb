{
 "cells": [
  {
   "cell_type": "code",
   "execution_count": null,
   "id": "43820f5e",
   "metadata": {},
   "outputs": [],
   "source": [
    "class Solution:\n",
    "    def restoreString(self, s: str, indices: List[int]) -> str:\n",
    "        shuffled = ['']*len(s)\n",
    "        for i, char in enumerate(s):\n",
    "            shuffled[indices[i]] = char\n",
    "        return ''.join(shuffled)"
   ]
  }
 ],
 "metadata": {
  "kernelspec": {
   "display_name": "Python 3 (ipykernel)",
   "language": "python",
   "name": "python3"
  },
  "language_info": {
   "codemirror_mode": {
    "name": "ipython",
    "version": 3
   },
   "file_extension": ".py",
   "mimetype": "text/x-python",
   "name": "python",
   "nbconvert_exporter": "python",
   "pygments_lexer": "ipython3",
   "version": "3.11.5"
  }
 },
 "nbformat": 4,
 "nbformat_minor": 5
}
