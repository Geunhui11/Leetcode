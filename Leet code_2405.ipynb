{
 "cells": [
  {
   "cell_type": "code",
   "execution_count": null,
   "id": "6da6ef0e",
   "metadata": {},
   "outputs": [],
   "source": [
    "class Solution:\n",
    "    def partitionString(self, s: str) -> int:\n",
    "        lst_s = list(s)\n",
    "        count = 0\n",
    "        while len(lst_s) > 0:\n",
    "            i = 0\n",
    "            while i >= 0 and i <= len(lst_s):\n",
    "                temp_lst = lst_s[0:i+1]\n",
    "                if all(temp_lst.count(ele) == 1 for ele in temp_lst):\n",
    "                    i += 1\n",
    "                else:\n",
    "                    break\n",
    "            count += 1\n",
    "            del lst_s[0:i]\n",
    "        return count"
   ]
  }
 ],
 "metadata": {
  "kernelspec": {
   "display_name": "Python 3 (ipykernel)",
   "language": "python",
   "name": "python3"
  },
  "language_info": {
   "codemirror_mode": {
    "name": "ipython",
    "version": 3
   },
   "file_extension": ".py",
   "mimetype": "text/x-python",
   "name": "python",
   "nbconvert_exporter": "python",
   "pygments_lexer": "ipython3",
   "version": "3.11.5"
  }
 },
 "nbformat": 4,
 "nbformat_minor": 5
}
