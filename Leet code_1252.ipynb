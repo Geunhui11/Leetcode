{
 "cells": [
  {
   "cell_type": "code",
   "execution_count": null,
   "id": "c85a0d4c",
   "metadata": {},
   "outputs": [],
   "source": [
    "class Solution:\n",
    "    def oddCells(self, m: int, n: int, indices: List[List[int]]) -> int:\n",
    "        matrix = [[0 for k in range(n)] for i in range(m)]\n",
    "        for indice in indices:\n",
    "            for j in range(n):\n",
    "                matrix[indice[0]][j] += 1\n",
    "            for l in range(m):\n",
    "                matrix[l][indice[1]] += 1\n",
    "        count = 0\n",
    "        for row in matrix:\n",
    "            for col in range(n):\n",
    "                if row[col] % 2 == 1:\n",
    "                    count += 1\n",
    "        return count"
   ]
  }
 ],
 "metadata": {
  "kernelspec": {
   "display_name": "Python 3 (ipykernel)",
   "language": "python",
   "name": "python3"
  },
  "language_info": {
   "codemirror_mode": {
    "name": "ipython",
    "version": 3
   },
   "file_extension": ".py",
   "mimetype": "text/x-python",
   "name": "python",
   "nbconvert_exporter": "python",
   "pygments_lexer": "ipython3",
   "version": "3.11.5"
  }
 },
 "nbformat": 4,
 "nbformat_minor": 5
}
