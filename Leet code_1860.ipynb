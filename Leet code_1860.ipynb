{
 "cells": [
  {
   "cell_type": "code",
   "execution_count": null,
   "id": "03ae3f36",
   "metadata": {},
   "outputs": [],
   "source": [
    "class Solution:\n",
    "    def memLeak(self, memory1: int, memory2: int) -> List[int]:\n",
    "        i = 1\n",
    "        while i > 0:\n",
    "            if i > max(memory1,memory2):\n",
    "                break\n",
    "            if memory1 >= memory2:\n",
    "                memory1 = memory1 - i\n",
    "            else:\n",
    "                memory2 = memory2 - i\n",
    "            i += 1\n",
    "        return [i,memory1,memory2]"
   ]
  }
 ],
 "metadata": {
  "kernelspec": {
   "display_name": "Python 3 (ipykernel)",
   "language": "python",
   "name": "python3"
  },
  "language_info": {
   "codemirror_mode": {
    "name": "ipython",
    "version": 3
   },
   "file_extension": ".py",
   "mimetype": "text/x-python",
   "name": "python",
   "nbconvert_exporter": "python",
   "pygments_lexer": "ipython3",
   "version": "3.11.5"
  }
 },
 "nbformat": 4,
 "nbformat_minor": 5
}
