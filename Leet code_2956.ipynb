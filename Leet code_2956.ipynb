{
 "cells": [
  {
   "cell_type": "code",
   "execution_count": null,
   "id": "440a9b1a",
   "metadata": {},
   "outputs": [],
   "source": [
    "class Solution:\n",
    "    def findIntersectionValues(self, nums1: List[int], nums2: List[int]) -> List[int]:\n",
    "        output = []\n",
    "        lst_indices= []\n",
    "        for i in range(len(nums1)):\n",
    "            if nums1[i] in nums2:\n",
    "                lst_indices.append(i)\n",
    "        output.append(len(lst_indices))\n",
    "\n",
    "        lst_indices = []\n",
    "        for j in range(len(nums2)):\n",
    "            if nums2[j] in nums1:\n",
    "                lst_indices.append(j)\n",
    "        output.append(len(lst_indices))\n",
    "\n",
    "        return output"
   ]
  }
 ],
 "metadata": {
  "kernelspec": {
   "display_name": "Python 3 (ipykernel)",
   "language": "python",
   "name": "python3"
  },
  "language_info": {
   "codemirror_mode": {
    "name": "ipython",
    "version": 3
   },
   "file_extension": ".py",
   "mimetype": "text/x-python",
   "name": "python",
   "nbconvert_exporter": "python",
   "pygments_lexer": "ipython3",
   "version": "3.11.5"
  }
 },
 "nbformat": 4,
 "nbformat_minor": 5
}
