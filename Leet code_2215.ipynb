{
 "cells": [
  {
   "cell_type": "code",
   "execution_count": null,
   "id": "1665ba7e",
   "metadata": {},
   "outputs": [],
   "source": [
    "class Solution:\n",
    "    def findDifference(self, nums1: List[int], nums2: List[int]) -> List[List[int]]:\n",
    "        set_nums1 = set(nums1)\n",
    "        set_nums2 = set(nums2)\n",
    "        out_1 = []\n",
    "        out_2 = []\n",
    "        \n",
    "        for num_1 in set_nums1:\n",
    "            if num_1 not in set_nums2:\n",
    "                out_1.append(num_1)\n",
    "        \n",
    "        for num_2 in set_nums2:\n",
    "            if num_2 not in set_nums1:\n",
    "                out_2.append(num_2)\n",
    "        \n",
    "        return [out_1, out_2]"
   ]
  }
 ],
 "metadata": {
  "kernelspec": {
   "display_name": "Python 3 (ipykernel)",
   "language": "python",
   "name": "python3"
  },
  "language_info": {
   "codemirror_mode": {
    "name": "ipython",
    "version": 3
   },
   "file_extension": ".py",
   "mimetype": "text/x-python",
   "name": "python",
   "nbconvert_exporter": "python",
   "pygments_lexer": "ipython3",
   "version": "3.11.5"
  }
 },
 "nbformat": 4,
 "nbformat_minor": 5
}
