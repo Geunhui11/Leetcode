{
 "cells": [
  {
   "cell_type": "code",
   "execution_count": null,
   "id": "f00fbe33",
   "metadata": {},
   "outputs": [],
   "source": [
    "class Solution:\n",
    "    def twoOutOfThree(self, nums1: List[int], nums2: List[int], nums3: List[int]) -> List[int]:\n",
    "        out = []\n",
    "        S = set(nums1 + nums2 + nums3)\n",
    "        for num in S:\n",
    "            temp = []\n",
    "            if num in nums1:\n",
    "                temp.append(True)\n",
    "            if num in nums2:\n",
    "                temp.append(True)\n",
    "            if num in nums3:\n",
    "                temp.append(True)\n",
    "            if temp.count(True) >= 2:\n",
    "                out.append(num)\n",
    "        return out"
   ]
  }
 ],
 "metadata": {
  "kernelspec": {
   "display_name": "Python 3 (ipykernel)",
   "language": "python",
   "name": "python3"
  },
  "language_info": {
   "codemirror_mode": {
    "name": "ipython",
    "version": 3
   },
   "file_extension": ".py",
   "mimetype": "text/x-python",
   "name": "python",
   "nbconvert_exporter": "python",
   "pygments_lexer": "ipython3",
   "version": "3.11.5"
  }
 },
 "nbformat": 4,
 "nbformat_minor": 5
}
