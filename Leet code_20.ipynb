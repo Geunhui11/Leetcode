{
 "cells": [
  {
   "cell_type": "code",
   "execution_count": 10,
   "id": "6413e612",
   "metadata": {},
   "outputs": [],
   "source": [
    "class Solution:\n",
    "    def isValid(self, s: str) -> bool:\n",
    "        stack = [] # want to make empty list\n",
    "        brackets = {')': '(', '}': '{', ']': '['}\n",
    "        \n",
    "        for bracket in s:\n",
    "            if bracket in brackets.values():\n",
    "                stack.append(bracket)\n",
    "            elif bracket in brackets.keys():\n",
    "                if not stack or stack.pop() != brackets[bracket]:\n",
    "                    return False\n",
    "            else:\n",
    "                continue\n",
    "        return not stack"
   ]
  },
  {
   "cell_type": "code",
   "execution_count": 11,
   "id": "3636d8e9",
   "metadata": {},
   "outputs": [],
   "source": [
    "isValid_Solution = Solution()"
   ]
  },
  {
   "cell_type": "code",
   "execution_count": 12,
   "id": "6c309f08",
   "metadata": {},
   "outputs": [
    {
     "data": {
      "text/plain": [
       "True"
      ]
     },
     "execution_count": 12,
     "metadata": {},
     "output_type": "execute_result"
    }
   ],
   "source": [
    "isValid_Solution.isValid('[{}]')"
   ]
  },
  {
   "cell_type": "code",
   "execution_count": null,
   "id": "c29b095f",
   "metadata": {},
   "outputs": [],
   "source": []
  }
 ],
 "metadata": {
  "kernelspec": {
   "display_name": "Python 3 (ipykernel)",
   "language": "python",
   "name": "python3"
  },
  "language_info": {
   "codemirror_mode": {
    "name": "ipython",
    "version": 3
   },
   "file_extension": ".py",
   "mimetype": "text/x-python",
   "name": "python",
   "nbconvert_exporter": "python",
   "pygments_lexer": "ipython3",
   "version": "3.11.5"
  }
 },
 "nbformat": 4,
 "nbformat_minor": 5
}
