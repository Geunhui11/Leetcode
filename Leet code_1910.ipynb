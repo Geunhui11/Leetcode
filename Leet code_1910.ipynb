{
 "cells": [
  {
   "cell_type": "code",
   "execution_count": null,
   "id": "addce7b0",
   "metadata": {},
   "outputs": [],
   "source": [
    "class Solution:\n",
    "    def removeOccurrences(self, s: str, part: str) -> str:\n",
    "        while part in s:\n",
    "            lst = list(s)\n",
    "            for i in range(len(lst)-len(part)+1):\n",
    "                if lst[i:i+len(part)] == list(part):\n",
    "                    del lst[i:i+len(part)]\n",
    "                    break\n",
    "            s = ''.join(lst)\n",
    "        return s"
   ]
  }
 ],
 "metadata": {
  "kernelspec": {
   "display_name": "Python 3 (ipykernel)",
   "language": "python",
   "name": "python3"
  },
  "language_info": {
   "codemirror_mode": {
    "name": "ipython",
    "version": 3
   },
   "file_extension": ".py",
   "mimetype": "text/x-python",
   "name": "python",
   "nbconvert_exporter": "python",
   "pygments_lexer": "ipython3",
   "version": "3.11.5"
  }
 },
 "nbformat": 4,
 "nbformat_minor": 5
}
