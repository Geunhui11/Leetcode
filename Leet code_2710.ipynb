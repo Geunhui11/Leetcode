{
 "cells": [
  {
   "cell_type": "code",
   "execution_count": null,
   "id": "a073d09c",
   "metadata": {},
   "outputs": [],
   "source": [
    "class Solution:\n",
    "    def removeTrailingZeros(self, num: str) -> str:\n",
    "        temp = len(num)\n",
    "        for i in range(len(num)):\n",
    "            a = list(num[i:])\n",
    "            if all(digit == '0' for digit in a):\n",
    "                temp = i\n",
    "                break\n",
    "        return num[0:temp]"
   ]
  }
 ],
 "metadata": {
  "kernelspec": {
   "display_name": "Python 3 (ipykernel)",
   "language": "python",
   "name": "python3"
  },
  "language_info": {
   "codemirror_mode": {
    "name": "ipython",
    "version": 3
   },
   "file_extension": ".py",
   "mimetype": "text/x-python",
   "name": "python",
   "nbconvert_exporter": "python",
   "pygments_lexer": "ipython3",
   "version": "3.11.5"
  }
 },
 "nbformat": 4,
 "nbformat_minor": 5
}
