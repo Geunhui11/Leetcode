{
 "cells": [
  {
   "cell_type": "code",
   "execution_count": null,
   "id": "000371dc",
   "metadata": {},
   "outputs": [],
   "source": [
    "class Solution:\n",
    "    def diStringMatch(self, s: str) -> List[int]:\n",
    "        L,ic,dc = [],0,len(s)\n",
    "        for i in s:\n",
    "            if i == 'I':\n",
    "                L.append(ic)\n",
    "                ic += 1\n",
    "            else:\n",
    "                L.append(dc)\n",
    "                dc -= 1\n",
    "        if s[-1] == 'D':\n",
    "            L.append(dc)\n",
    "        else:\n",
    "            L.append(ic)\n",
    "        return L"
   ]
  }
 ],
 "metadata": {
  "kernelspec": {
   "display_name": "Python 3 (ipykernel)",
   "language": "python",
   "name": "python3"
  },
  "language_info": {
   "codemirror_mode": {
    "name": "ipython",
    "version": 3
   },
   "file_extension": ".py",
   "mimetype": "text/x-python",
   "name": "python",
   "nbconvert_exporter": "python",
   "pygments_lexer": "ipython3",
   "version": "3.11.5"
  }
 },
 "nbformat": 4,
 "nbformat_minor": 5
}
