{
 "cells": [
  {
   "cell_type": "code",
   "execution_count": null,
   "id": "6b183cc3",
   "metadata": {},
   "outputs": [],
   "source": [
    "class Solution:\n",
    "    def shuffle(self, nums: List[int], n: int) -> List[int]:\n",
    "        nums1 = [nums[i] for i in range(n)]\n",
    "        nums2 = [nums[j] for j in range(n,2*n)]\n",
    "        ans = []\n",
    "        for k in range(n):\n",
    "            ans.append(nums1[k])\n",
    "            ans.append(nums2[k])\n",
    "        return ans"
   ]
  }
 ],
 "metadata": {
  "kernelspec": {
   "display_name": "Python 3 (ipykernel)",
   "language": "python",
   "name": "python3"
  },
  "language_info": {
   "codemirror_mode": {
    "name": "ipython",
    "version": 3
   },
   "file_extension": ".py",
   "mimetype": "text/x-python",
   "name": "python",
   "nbconvert_exporter": "python",
   "pygments_lexer": "ipython3",
   "version": "3.11.5"
  }
 },
 "nbformat": 4,
 "nbformat_minor": 5
}
