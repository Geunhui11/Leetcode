{
 "cells": [
  {
   "cell_type": "code",
   "execution_count": 3,
   "id": "1f23891d",
   "metadata": {},
   "outputs": [],
   "source": [
    "class Solution:\n",
    "    def countPoints(self, rings: str) -> int:\n",
    "        count = 0\n",
    "        list_rods = [[] for k in range(10)]\n",
    "        for i in range(len(rings)):\n",
    "            if i % 2 == 0:\n",
    "                continue\n",
    "            else:\n",
    "                list_rods[int(rings[i])].append(rings[i-1])\n",
    "        for j in range(len(list_rods)):\n",
    "            if all(char in list_rods[j] for char in ['R','G','B']):\n",
    "                count += 1\n",
    "        return count"
   ]
  },
  {
   "cell_type": "code",
   "execution_count": null,
   "id": "20056eb2",
   "metadata": {},
   "outputs": [],
   "source": []
  }
 ],
 "metadata": {
  "kernelspec": {
   "display_name": "Python 3 (ipykernel)",
   "language": "python",
   "name": "python3"
  },
  "language_info": {
   "codemirror_mode": {
    "name": "ipython",
    "version": 3
   },
   "file_extension": ".py",
   "mimetype": "text/x-python",
   "name": "python",
   "nbconvert_exporter": "python",
   "pygments_lexer": "ipython3",
   "version": "3.11.5"
  }
 },
 "nbformat": 4,
 "nbformat_minor": 5
}
