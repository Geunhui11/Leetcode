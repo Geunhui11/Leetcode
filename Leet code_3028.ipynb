{
 "cells": [
  {
   "cell_type": "code",
   "execution_count": null,
   "id": "07e6ec06",
   "metadata": {},
   "outputs": [],
   "source": [
    "class Solution:\n",
    "    def returnToBoundaryCount(self, nums: List[int]) -> int:\n",
    "        count = 0\n",
    "        for i in range(1,len(nums)+1):\n",
    "            if sum(nums[0:i]) == 0:\n",
    "                count += 1\n",
    "        return count"
   ]
  }
 ],
 "metadata": {
  "kernelspec": {
   "display_name": "Python 3 (ipykernel)",
   "language": "python",
   "name": "python3"
  },
  "language_info": {
   "codemirror_mode": {
    "name": "ipython",
    "version": 3
   },
   "file_extension": ".py",
   "mimetype": "text/x-python",
   "name": "python",
   "nbconvert_exporter": "python",
   "pygments_lexer": "ipython3",
   "version": "3.11.5"
  }
 },
 "nbformat": 4,
 "nbformat_minor": 5
}
