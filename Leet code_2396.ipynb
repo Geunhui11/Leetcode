{
 "cells": [
  {
   "cell_type": "code",
   "execution_count": null,
   "id": "0a1bf70c",
   "metadata": {},
   "outputs": [],
   "source": [
    "class Solution:\n",
    "    def isStrictlyPalindromic(self, n: int) -> bool:\n",
    "        def trans_base(k,b):\n",
    "            output = ''\n",
    "            while k > 0:\n",
    "                remainder = k % b\n",
    "                quotient = k // b\n",
    "                output += str(remainder)\n",
    "                k = k // b\n",
    "            return output\n",
    "            \n",
    "        return all(trans_base(n,b) == trans_base(n,b)[::-1] for b in range(2,n-1))"
   ]
  }
 ],
 "metadata": {
  "kernelspec": {
   "display_name": "Python 3 (ipykernel)",
   "language": "python",
   "name": "python3"
  },
  "language_info": {
   "codemirror_mode": {
    "name": "ipython",
    "version": 3
   },
   "file_extension": ".py",
   "mimetype": "text/x-python",
   "name": "python",
   "nbconvert_exporter": "python",
   "pygments_lexer": "ipython3",
   "version": "3.11.5"
  }
 },
 "nbformat": 4,
 "nbformat_minor": 5
}
