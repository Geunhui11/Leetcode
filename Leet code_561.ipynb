{
 "cells": [
  {
   "cell_type": "code",
   "execution_count": null,
   "id": "8675dcf2",
   "metadata": {},
   "outputs": [],
   "source": [
    "class Solution:\n",
    "    def arrayPairSum(self, nums: List[int]) -> int:\n",
    "        out = 0\n",
    "        nums.sort()\n",
    "        for i in range(len(nums)//2):\n",
    "            out += nums[2*i]\n",
    "        return out"
   ]
  }
 ],
 "metadata": {
  "kernelspec": {
   "display_name": "Python 3 (ipykernel)",
   "language": "python",
   "name": "python3"
  },
  "language_info": {
   "codemirror_mode": {
    "name": "ipython",
    "version": 3
   },
   "file_extension": ".py",
   "mimetype": "text/x-python",
   "name": "python",
   "nbconvert_exporter": "python",
   "pygments_lexer": "ipython3",
   "version": "3.11.5"
  }
 },
 "nbformat": 4,
 "nbformat_minor": 5
}
