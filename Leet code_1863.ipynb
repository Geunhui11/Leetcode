{
 "cells": [
  {
   "cell_type": "code",
   "execution_count": null,
   "id": "344ed7cb",
   "metadata": {},
   "outputs": [],
   "source": [
    "class Solution:\n",
    "    def subsetXORSum(self, nums: List[int]) -> int:\n",
    "        n = len(nums)\n",
    "        all_subsets = []\n",
    "        for i in range(2**n):\n",
    "            subset = []\n",
    "            for j in range(n):\n",
    "                if (i >> j) & 1: \n",
    "                    subset.append(nums[j])\n",
    "            all_subsets.append(subset)\n",
    "        \n",
    "        xor_list = []\n",
    "        \n",
    "        for subset in all_subsets:\n",
    "            xor_sum = 0\n",
    "            for j in range(len(subset)):\n",
    "                xor_sum ^= subset[j]\n",
    "            xor_list.append(xor_sum)\n",
    "        return sum(xor_list)"
   ]
  }
 ],
 "metadata": {
  "kernelspec": {
   "display_name": "Python 3 (ipykernel)",
   "language": "python",
   "name": "python3"
  },
  "language_info": {
   "codemirror_mode": {
    "name": "ipython",
    "version": 3
   },
   "file_extension": ".py",
   "mimetype": "text/x-python",
   "name": "python",
   "nbconvert_exporter": "python",
   "pygments_lexer": "ipython3",
   "version": "3.11.5"
  }
 },
 "nbformat": 4,
 "nbformat_minor": 5
}
