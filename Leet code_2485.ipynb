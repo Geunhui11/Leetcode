{
 "cells": [
  {
   "cell_type": "code",
   "execution_count": null,
   "id": "9447ccbc",
   "metadata": {},
   "outputs": [],
   "source": [
    "class Solution:\n",
    "    def pivotInteger(self, n: int) -> int:\n",
    "        x=1\n",
    "        \n",
    "        while 1<=x and x<=n:\n",
    "            first_list = [k for k in range(1,x+1)]\n",
    "            second_list = [l for l in range(x,n+1)]\n",
    "            \n",
    "            if sum(first_list) == sum(second_list):\n",
    "                return x\n",
    "                break\n",
    "            x += 1\n",
    "        \n",
    "        return -1"
   ]
  }
 ],
 "metadata": {
  "kernelspec": {
   "display_name": "Python 3 (ipykernel)",
   "language": "python",
   "name": "python3"
  },
  "language_info": {
   "codemirror_mode": {
    "name": "ipython",
    "version": 3
   },
   "file_extension": ".py",
   "mimetype": "text/x-python",
   "name": "python",
   "nbconvert_exporter": "python",
   "pygments_lexer": "ipython3",
   "version": "3.11.5"
  }
 },
 "nbformat": 4,
 "nbformat_minor": 5
}
