{
 "cells": [
  {
   "cell_type": "code",
   "execution_count": null,
   "id": "4beab9ce",
   "metadata": {},
   "outputs": [],
   "source": [
    "class Solution:\n",
    "    def findAndReplacePattern(self, words: List[str], pattern: str) -> List[str]:\n",
    "        out = []\n",
    "        for word in words:\n",
    "            if len(set(pattern)) == len(set(word)):\n",
    "                temp = len(pattern)\n",
    "                bijection = {}\n",
    "                for i in range(len(pattern)):\n",
    "                    if pattern[i] not in bijection:\n",
    "                        bijection[pattern[i]] = word[i]\n",
    "                    else:\n",
    "                        if bijection[pattern[i]] != word[i]:\n",
    "                            temp = i\n",
    "                            break\n",
    "                        else:\n",
    "                            continue\n",
    "                if temp == len(pattern):\n",
    "                    out.append(word)\n",
    "        return out"
   ]
  }
 ],
 "metadata": {
  "kernelspec": {
   "display_name": "Python 3 (ipykernel)",
   "language": "python",
   "name": "python3"
  },
  "language_info": {
   "codemirror_mode": {
    "name": "ipython",
    "version": 3
   },
   "file_extension": ".py",
   "mimetype": "text/x-python",
   "name": "python",
   "nbconvert_exporter": "python",
   "pygments_lexer": "ipython3",
   "version": "3.11.5"
  }
 },
 "nbformat": 4,
 "nbformat_minor": 5
}
