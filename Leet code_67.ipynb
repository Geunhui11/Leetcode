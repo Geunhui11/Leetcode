{
 "cells": [
  {
   "cell_type": "code",
   "execution_count": 21,
   "id": "b3fe42a7",
   "metadata": {},
   "outputs": [],
   "source": [
    "class Solution:\n",
    "    def addBinary(self, a: str, b: str) -> str:\n",
    "        def binary_to_integer(x: str) -> int:\n",
    "            number = 0\n",
    "            for i in range(len(x)):\n",
    "                number += int(x[i])*(2**((len(x)-(i+1))))\n",
    "            return number\n",
    "        def integer_to_binary(y: int) -> str:\n",
    "            copy_y = y\n",
    "            binary = ''\n",
    "            if copy_y == 0:\n",
    "                return '0'\n",
    "            while copy_y > 0:\n",
    "                if copy_y % 2 == 0:\n",
    "                    binary = '0' + binary\n",
    "                else:\n",
    "                    binary = '1' + binary\n",
    "                copy_y = copy_y//2\n",
    "            return binary\n",
    "        c = binary_to_integer(a)+binary_to_integer(b)\n",
    "        c = integer_to_binary(c)\n",
    "        return c"
   ]
  },
  {
   "cell_type": "code",
   "execution_count": 22,
   "id": "1b2b4559",
   "metadata": {},
   "outputs": [],
   "source": [
    "solution_instance = Solution()"
   ]
  },
  {
   "cell_type": "code",
   "execution_count": 23,
   "id": "ec273e1b",
   "metadata": {},
   "outputs": [
    {
     "data": {
      "text/plain": [
       "'0'"
      ]
     },
     "execution_count": 23,
     "metadata": {},
     "output_type": "execute_result"
    }
   ],
   "source": [
    "solution_instance.addBinary('0','0')"
   ]
  }
 ],
 "metadata": {
  "kernelspec": {
   "display_name": "Python 3 (ipykernel)",
   "language": "python",
   "name": "python3"
  },
  "language_info": {
   "codemirror_mode": {
    "name": "ipython",
    "version": 3
   },
   "file_extension": ".py",
   "mimetype": "text/x-python",
   "name": "python",
   "nbconvert_exporter": "python",
   "pygments_lexer": "ipython3",
   "version": "3.11.5"
  }
 },
 "nbformat": 4,
 "nbformat_minor": 5
}
