{
 "cells": [
  {
   "cell_type": "code",
   "execution_count": null,
   "id": "7306a3ed",
   "metadata": {},
   "outputs": [],
   "source": [
    "class Solution:\n",
    "    def sortByBits(self, arr: List[int]) -> List[int]:\n",
    "        arr.sort()\n",
    "        p_out = []\n",
    "        for num in arr:\n",
    "            a = bin(num)[2:].count('1')\n",
    "            p_out.append([a,num])\n",
    "        p_out.sort()\n",
    "        return [p_out[k][1] for k in range(len(p_out))]"
   ]
  }
 ],
 "metadata": {
  "kernelspec": {
   "display_name": "Python 3 (ipykernel)",
   "language": "python",
   "name": "python3"
  },
  "language_info": {
   "codemirror_mode": {
    "name": "ipython",
    "version": 3
   },
   "file_extension": ".py",
   "mimetype": "text/x-python",
   "name": "python",
   "nbconvert_exporter": "python",
   "pygments_lexer": "ipython3",
   "version": "3.11.5"
  }
 },
 "nbformat": 4,
 "nbformat_minor": 5
}
