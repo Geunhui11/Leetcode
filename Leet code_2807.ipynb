{
 "cells": [
  {
   "cell_type": "code",
   "execution_count": 7,
   "id": "b2e36eb0",
   "metadata": {},
   "outputs": [],
   "source": [
    "class ListNode:\n",
    "    def __init__(self, val=0, next=None):\n",
    "        self.val = val\n",
    "        self.next = next"
   ]
  },
  {
   "cell_type": "code",
   "execution_count": 8,
   "id": "4cdfc12e",
   "metadata": {},
   "outputs": [],
   "source": [
    "class Solution:\n",
    "    def insertGreatestCommonDivisors(self, head):\n",
    "        \n",
    "        def find_gcd(a,b):\n",
    "            divisors = []\n",
    "            i = 1\n",
    "            while i<= min(a,b):\n",
    "                if a % i == 0 and b % i == 0:\n",
    "                    divisors.append(i)\n",
    "                i += 1\n",
    "            return max(divisors)    \n",
    "        \n",
    "        def insert_node(node):\n",
    "            next_node = node.next\n",
    "            gcd_val = find_gcd(node.val, next_node.val)\n",
    "            new_node = ListNode(gcd_val) # create new class object\n",
    "            node.next = new_node\n",
    "            new_node.next = next_node\n",
    "\n",
    "        current = head\n",
    "        \n",
    "        while current and current.next: # none can be appeared\n",
    "            insert_node(current)\n",
    "            current = current.next.next\n",
    "        \n",
    "        return head\n"
   ]
  },
  {
   "cell_type": "code",
   "execution_count": 12,
   "id": "92d35e4a",
   "metadata": {},
   "outputs": [],
   "source": [
    "node4 = ListNode(3)\n",
    "node3 = ListNode(10,node4)\n",
    "node2 = ListNode(6,node3)\n",
    "node1 = ListNode(18,node2)"
   ]
  },
  {
   "cell_type": "code",
   "execution_count": 16,
   "id": "d580d538",
   "metadata": {},
   "outputs": [],
   "source": [
    "solution = Solution()\n",
    "new_node = solution.insertGreatestCommonDivisors(node1)"
   ]
  },
  {
   "cell_type": "code",
   "execution_count": 24,
   "id": "bd262579",
   "metadata": {},
   "outputs": [
    {
     "name": "stdout",
     "output_type": "stream",
     "text": [
      "18\n",
      "6\n",
      "6\n",
      "2\n",
      "10\n",
      "1\n",
      "3\n"
     ]
    }
   ],
   "source": [
    "print(new_node.val)\n",
    "print(new_node.next.val)\n",
    "print(new_node.next.next.val)\n",
    "print(new_node.next.next.next.val)\n",
    "print(new_node.next.next.next.next.val)\n",
    "print(new_node.next.next.next.next.next.val)\n",
    "print(new_node.next.next.next.next.next.next.val)"
   ]
  },
  {
   "cell_type": "code",
   "execution_count": null,
   "id": "1d107c1e",
   "metadata": {},
   "outputs": [],
   "source": []
  }
 ],
 "metadata": {
  "kernelspec": {
   "display_name": "Python 3 (ipykernel)",
   "language": "python",
   "name": "python3"
  },
  "language_info": {
   "codemirror_mode": {
    "name": "ipython",
    "version": 3
   },
   "file_extension": ".py",
   "mimetype": "text/x-python",
   "name": "python",
   "nbconvert_exporter": "python",
   "pygments_lexer": "ipython3",
   "version": "3.11.5"
  }
 },
 "nbformat": 4,
 "nbformat_minor": 5
}
