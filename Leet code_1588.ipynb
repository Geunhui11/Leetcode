{
 "cells": [
  {
   "cell_type": "code",
   "execution_count": null,
   "id": "aed16b21",
   "metadata": {},
   "outputs": [],
   "source": [
    "class Solution:\n",
    "    def sumOddLengthSubarrays(self, arr: List[int]) -> int:\n",
    "        count = 0\n",
    "        for i in range((len(arr)+1)//2):\n",
    "            for j in range(0, len(arr)-2*i):\n",
    "                count += sum(arr[j:j+2*i+1])\n",
    "        return count"
   ]
  }
 ],
 "metadata": {
  "kernelspec": {
   "display_name": "Python 3 (ipykernel)",
   "language": "python",
   "name": "python3"
  },
  "language_info": {
   "codemirror_mode": {
    "name": "ipython",
    "version": 3
   },
   "file_extension": ".py",
   "mimetype": "text/x-python",
   "name": "python",
   "nbconvert_exporter": "python",
   "pygments_lexer": "ipython3",
   "version": "3.11.5"
  }
 },
 "nbformat": 4,
 "nbformat_minor": 5
}
