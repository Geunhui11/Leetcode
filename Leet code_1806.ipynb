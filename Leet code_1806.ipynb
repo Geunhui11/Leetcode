{
 "cells": [
  {
   "cell_type": "code",
   "execution_count": null,
   "id": "fdecea33",
   "metadata": {},
   "outputs": [],
   "source": [
    "class Solution:\n",
    "    def reinitializePermutation(self, n: int) -> int:\n",
    "        perm = [i for i in range(n)]\n",
    "        perm_copy = perm.copy()\n",
    "        j = 0\n",
    "        while j >= 0:\n",
    "            arr = []\n",
    "            for k in range(len(perm)):\n",
    "                if k % 2 == 0:\n",
    "                    arr.append(perm[k//2])\n",
    "                else:\n",
    "                    arr.append(perm[n//2 + (k-1)//2])\n",
    "            perm = arr\n",
    "            j += 1\n",
    "            if perm_copy == perm:\n",
    "                break\n",
    "        return j"
   ]
  }
 ],
 "metadata": {
  "kernelspec": {
   "display_name": "Python 3 (ipykernel)",
   "language": "python",
   "name": "python3"
  },
  "language_info": {
   "codemirror_mode": {
    "name": "ipython",
    "version": 3
   },
   "file_extension": ".py",
   "mimetype": "text/x-python",
   "name": "python",
   "nbconvert_exporter": "python",
   "pygments_lexer": "ipython3",
   "version": "3.11.5"
  }
 },
 "nbformat": 4,
 "nbformat_minor": 5
}
