{
 "cells": [
  {
   "cell_type": "code",
   "execution_count": null,
   "id": "0ac4b281",
   "metadata": {},
   "outputs": [],
   "source": [
    "class Solution:\n",
    "    def sumOfTheDigitsOfHarshadNumber(self, x: int) -> int:\n",
    "        str_int = str(x)\n",
    "        list_digit = [int(dig) for dig in str_int]\n",
    "        if x % sum(list_digit) == 0:\n",
    "            return sum(list_digit)\n",
    "        else:\n",
    "            return -1        "
   ]
  }
 ],
 "metadata": {
  "kernelspec": {
   "display_name": "Python 3 (ipykernel)",
   "language": "python",
   "name": "python3"
  },
  "language_info": {
   "codemirror_mode": {
    "name": "ipython",
    "version": 3
   },
   "file_extension": ".py",
   "mimetype": "text/x-python",
   "name": "python",
   "nbconvert_exporter": "python",
   "pygments_lexer": "ipython3",
   "version": "3.11.5"
  }
 },
 "nbformat": 4,
 "nbformat_minor": 5
}
