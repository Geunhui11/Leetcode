{
 "cells": [
  {
   "cell_type": "code",
   "execution_count": null,
   "id": "b84259b0",
   "metadata": {},
   "outputs": [],
   "source": [
    "class Solution:\n",
    "    def countConsistentStrings(self, allowed: str, words: List[str]) -> int:\n",
    "        count = 0\n",
    "        set_allowed = set(allowed)\n",
    "        for char_words in words:\n",
    "            existence = []\n",
    "            for i in range(len(char_words)):\n",
    "                if char_words[i] in set_allowed:\n",
    "                    existence.append(1)\n",
    "                else:\n",
    "                    existence.append(0)\n",
    "            if all(i for i in existence) == 1:\n",
    "                count += 1\n",
    "        return count"
   ]
  }
 ],
 "metadata": {
  "kernelspec": {
   "display_name": "Python 3 (ipykernel)",
   "language": "python",
   "name": "python3"
  },
  "language_info": {
   "codemirror_mode": {
    "name": "ipython",
    "version": 3
   },
   "file_extension": ".py",
   "mimetype": "text/x-python",
   "name": "python",
   "nbconvert_exporter": "python",
   "pygments_lexer": "ipython3",
   "version": "3.11.5"
  }
 },
 "nbformat": 4,
 "nbformat_minor": 5
}
