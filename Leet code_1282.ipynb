{
 "cells": [
  {
   "cell_type": "code",
   "execution_count": null,
   "id": "79ee99e2",
   "metadata": {},
   "outputs": [],
   "source": [
    "class Solution:\n",
    "    def groupThePeople(self, groupSizes: List[int]) -> List[List[int]]:\n",
    "        distinct_groupSizes = set(groupSizes)\n",
    "        dict_group = {key : [] for key in distinct_groupSizes}\n",
    "        for i in range(len(groupSizes)):\n",
    "            dict_group[groupSizes[i]].append(i)\n",
    "        output = []\n",
    "        for key in dict_group:\n",
    "            if key != len(dict_group[key]):\n",
    "                storage = []\n",
    "                while len(dict_group[key]) > 0:\n",
    "                    storage.append(dict_group[key][0:key])\n",
    "                    del dict_group[key][0:key]\n",
    "                output += storage\n",
    "            else:\n",
    "                output += [dict_group[key]]\n",
    "        return output"
   ]
  }
 ],
 "metadata": {
  "kernelspec": {
   "display_name": "Python 3 (ipykernel)",
   "language": "python",
   "name": "python3"
  },
  "language_info": {
   "codemirror_mode": {
    "name": "ipython",
    "version": 3
   },
   "file_extension": ".py",
   "mimetype": "text/x-python",
   "name": "python",
   "nbconvert_exporter": "python",
   "pygments_lexer": "ipython3",
   "version": "3.11.5"
  }
 },
 "nbformat": 4,
 "nbformat_minor": 5
}
