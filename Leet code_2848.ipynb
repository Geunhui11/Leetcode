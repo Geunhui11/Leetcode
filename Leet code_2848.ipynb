{
 "cells": [
  {
   "cell_type": "code",
   "execution_count": null,
   "id": "23604e35",
   "metadata": {},
   "outputs": [],
   "source": [
    "class Solution:\n",
    "    def numberOfPoints(self, nums: List[List[int]]) -> int:\n",
    "        S = set()\n",
    "        for num in nums:\n",
    "            temp = set()\n",
    "            start = num[0]\n",
    "            end = num[1]\n",
    "            for n in range(start,end+1):\n",
    "                temp.add(n)\n",
    "            S = S.union(temp)\n",
    "        return len(S)"
   ]
  }
 ],
 "metadata": {
  "kernelspec": {
   "display_name": "Python 3 (ipykernel)",
   "language": "python",
   "name": "python3"
  },
  "language_info": {
   "codemirror_mode": {
    "name": "ipython",
    "version": 3
   },
   "file_extension": ".py",
   "mimetype": "text/x-python",
   "name": "python",
   "nbconvert_exporter": "python",
   "pygments_lexer": "ipython3",
   "version": "3.11.5"
  }
 },
 "nbformat": 4,
 "nbformat_minor": 5
}
