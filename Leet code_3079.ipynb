{
 "cells": [
  {
   "cell_type": "code",
   "execution_count": null,
   "id": "e88b177d",
   "metadata": {},
   "outputs": [],
   "source": [
    "class Solution:\n",
    "    def sumOfEncryptedInt(self, nums: List[int]) -> int:\n",
    "        def encrypt(x):\n",
    "            lst = list(str(x))\n",
    "            lst_digit = [int(digit) for digit in lst]\n",
    "            s = ''\n",
    "            for i in range(len(lst)):\n",
    "                s += str(max(lst_digit))\n",
    "            return int(s)\n",
    "        sum = 0\n",
    "        for i in range(len(nums)):\n",
    "            sum += encrypt(nums[i])\n",
    "        return sum"
   ]
  }
 ],
 "metadata": {
  "kernelspec": {
   "display_name": "Python 3 (ipykernel)",
   "language": "python",
   "name": "python3"
  },
  "language_info": {
   "codemirror_mode": {
    "name": "ipython",
    "version": 3
   },
   "file_extension": ".py",
   "mimetype": "text/x-python",
   "name": "python",
   "nbconvert_exporter": "python",
   "pygments_lexer": "ipython3",
   "version": "3.11.5"
  }
 },
 "nbformat": 4,
 "nbformat_minor": 5
}
