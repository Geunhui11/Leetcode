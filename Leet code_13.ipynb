{
 "cells": [
  {
   "cell_type": "code",
   "execution_count": 1,
   "id": "30524fc0",
   "metadata": {},
   "outputs": [],
   "source": [
    "class Solution:\n",
    "    def romanToInt(self, s: str) -> int:\n",
    "        Roman = {'I': 1, 'V': 5, 'X': 10, 'L': 50, 'C': 100, 'D': 500, 'M': 1000}\n",
    "        output = 0\n",
    "        for i in range(len(s)-1):\n",
    "            if Roman[s[i+1]] > Roman[s[i]]:\n",
    "                output -= Roman[s[i]]\n",
    "            else:\n",
    "                output += Roman[s[i]]\n",
    "        \n",
    "        return output + Roman[s[len(s)-1]]"
   ]
  },
  {
   "cell_type": "code",
   "execution_count": 2,
   "id": "853c3ca0",
   "metadata": {},
   "outputs": [],
   "source": [
    "Solution_instance = Solution()"
   ]
  },
  {
   "cell_type": "code",
   "execution_count": 3,
   "id": "1c127d63",
   "metadata": {},
   "outputs": [
    {
     "data": {
      "text/plain": [
       "1994"
      ]
     },
     "execution_count": 3,
     "metadata": {},
     "output_type": "execute_result"
    }
   ],
   "source": [
    "Solution_instance.romanToInt(\"MCMXCIV\")"
   ]
  }
 ],
 "metadata": {
  "kernelspec": {
   "display_name": "Python 3 (ipykernel)",
   "language": "python",
   "name": "python3"
  },
  "language_info": {
   "codemirror_mode": {
    "name": "ipython",
    "version": 3
   },
   "file_extension": ".py",
   "mimetype": "text/x-python",
   "name": "python",
   "nbconvert_exporter": "python",
   "pygments_lexer": "ipython3",
   "version": "3.11.5"
  }
 },
 "nbformat": 4,
 "nbformat_minor": 5
}
