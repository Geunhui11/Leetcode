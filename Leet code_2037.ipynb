{
 "cells": [
  {
   "cell_type": "code",
   "execution_count": null,
   "id": "b04cffef",
   "metadata": {},
   "outputs": [],
   "source": [
    "class Solution:\n",
    "    def minMovesToSeat(self, seats: List[int], students: List[int]) -> int:\n",
    "        seats.sort()\n",
    "        students.sort()\n",
    "        count = 0\n",
    "        for i in range(len(seats)):\n",
    "            count += abs(seats[i] - students[i])\n",
    "        return count"
   ]
  }
 ],
 "metadata": {
  "kernelspec": {
   "display_name": "Python 3 (ipykernel)",
   "language": "python",
   "name": "python3"
  },
  "language_info": {
   "codemirror_mode": {
    "name": "ipython",
    "version": 3
   },
   "file_extension": ".py",
   "mimetype": "text/x-python",
   "name": "python",
   "nbconvert_exporter": "python",
   "pygments_lexer": "ipython3",
   "version": "3.11.5"
  }
 },
 "nbformat": 4,
 "nbformat_minor": 5
}
