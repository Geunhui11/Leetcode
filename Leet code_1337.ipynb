{
 "cells": [
  {
   "cell_type": "code",
   "execution_count": null,
   "id": "c8681776",
   "metadata": {},
   "outputs": [],
   "source": [
    "class Solution:\n",
    "    def kWeakestRows(self, mat: List[List[int]], k: int) -> List[int]:\n",
    "        hashm=[]\n",
    "        for i in range(len(mat)):\n",
    "            hashm.append([mat[i].count(1),i])\n",
    "        hashm.sort()\n",
    "        res=[]\n",
    "        for i in range(k):\n",
    "            res.append(hashm[i][1])\n",
    "        return res"
   ]
  }
 ],
 "metadata": {
  "kernelspec": {
   "display_name": "Python 3 (ipykernel)",
   "language": "python",
   "name": "python3"
  },
  "language_info": {
   "codemirror_mode": {
    "name": "ipython",
    "version": 3
   },
   "file_extension": ".py",
   "mimetype": "text/x-python",
   "name": "python",
   "nbconvert_exporter": "python",
   "pygments_lexer": "ipython3",
   "version": "3.11.5"
  }
 },
 "nbformat": 4,
 "nbformat_minor": 5
}
