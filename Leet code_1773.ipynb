{
 "cells": [
  {
   "cell_type": "code",
   "execution_count": null,
   "id": "77d1c2d3",
   "metadata": {},
   "outputs": [],
   "source": [
    "class Solution:\n",
    "    def countMatches(self, items: List[List[str]], ruleKey: str, ruleValue: str) -> int:\n",
    "        output = 0\n",
    "        for item in items:\n",
    "            if ruleKey == 'type':\n",
    "                if item[0] == ruleValue:\n",
    "                    output += 1\n",
    "            elif ruleKey == 'color':\n",
    "                if item[1] == ruleValue:\n",
    "                    output += 1\n",
    "            elif ruleKey == 'name':\n",
    "                if item[2] == ruleValue:\n",
    "                    output += 1\n",
    "        return output        "
   ]
  }
 ],
 "metadata": {
  "kernelspec": {
   "display_name": "Python 3 (ipykernel)",
   "language": "python",
   "name": "python3"
  },
  "language_info": {
   "codemirror_mode": {
    "name": "ipython",
    "version": 3
   },
   "file_extension": ".py",
   "mimetype": "text/x-python",
   "name": "python",
   "nbconvert_exporter": "python",
   "pygments_lexer": "ipython3",
   "version": "3.11.5"
  }
 },
 "nbformat": 4,
 "nbformat_minor": 5
}
